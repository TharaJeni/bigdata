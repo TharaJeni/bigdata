{
 "cells": [
  {
   "cell_type": "markdown",
   "id": "a124d5c7",
   "metadata": {},
   "source": [
    "# Problem Statement\n",
    "\n",
    "##### Task:\n",
    "The task is to classify a firm's credit rating into one of the Rating categories and to predict whether a firm is considered investment grade or not.\n",
    "\n",
    "##### Process:\n",
    "This project will start off with exploratory data analysis, feature-engineering, feature selection, Model training and Model Evaluation.Finally will discuss parameter selections for each model and also discuss the results demonstrate for the effectiveness and suitability of three models approach on this problem. \n",
    "##### Implementing three models are\n",
    "* Linear Regression with Ridge (L1) and Lasso (L2) Regularisation\n",
    "* Logistic Regression with Ridge (L1) and Lasso (L2) Regularisation\n",
    "* Neural Network approach\n",
    "\n",
    "##### About Dataset:\n",
    "Considering a dataset(1700,28) which contains 1700 observations of 26 financial and accounting metrics for a set of firms in several different industries and 2 features are target variables.These 28 features can be divided in:\n",
    "\n",
    "1. **Liquidity Measurement Ratios:** Current Liquidity, Total Liquidity, Cash and Current Liabilities.\n",
    "2. **Profitability Indicator Ratios:** Sales/Revenues, Gross Margin, EBITDA, EBITDA Margin, Net Income Before Extraordinaries, EPS Before Extraordinaries, Return On Assets, Return on equity. \n",
    "3. **Debt Ratios:** Total Debt, Net Debt, Long-Term Debt, Short-Term Debt, Total Debt/EBITDA, Net Debt/EBITDA, Total Debt/MV, Net Debt/MV, Total MV, CFO/Debt, Interest Coverage.\n",
    "4. **Operating Performance Ratios:** Free Cash Flow, InvGrd, Ratings.\n",
    "5. **Cash Flow Indicator Ratios:** CFO\n",
    "\n",
    "###### Note:\n",
    " *Required Expansions:\n",
    "* **EBITDA** - Earnings Before Interest, Taxes, Depreciation, & Amortization\n",
    "* **MV** - Market capitalization\n",
    "* **CFO** - Cash flow from operating activities\n",
    "* **InvGrd** - Investment Grade\n",
    "* **EPS** - Earnings per share\n",
    "* **ROA** - Return On Assets\n",
    "* **ROE** - Return on Equity\n",
    "* **PE** -  Private Equity\n",
    "\n",
    "\n"
   ]
  },
  {
   "cell_type": "code",
   "execution_count": 1,
   "id": "0aa651e7",
   "metadata": {},
   "outputs": [
    {
     "name": "stdout",
     "output_type": "stream",
     "text": [
      "Requirement already satisfied: imbalanced-learn in c:\\users\\thara jeni\\anaconda3\\lib\\site-packages (0.10.1)\n",
      "Requirement already satisfied: numpy>=1.17.3 in c:\\users\\thara jeni\\anaconda3\\lib\\site-packages (from imbalanced-learn) (1.23.5)\n",
      "Requirement already satisfied: joblib>=1.1.1 in c:\\users\\thara jeni\\anaconda3\\lib\\site-packages (from imbalanced-learn) (1.2.0)\n",
      "Requirement already satisfied: scipy>=1.3.2 in c:\\users\\thara jeni\\anaconda3\\lib\\site-packages (from imbalanced-learn) (1.9.1)\n",
      "Requirement already satisfied: scikit-learn>=1.0.2 in c:\\users\\thara jeni\\anaconda3\\lib\\site-packages (from imbalanced-learn) (1.0.2)\n",
      "Requirement already satisfied: threadpoolctl>=2.0.0 in c:\\users\\thara jeni\\anaconda3\\lib\\site-packages (from imbalanced-learn) (2.2.0)\n",
      "Requirement already satisfied: tensorflow in c:\\users\\thara jeni\\anaconda3\\lib\\site-packages (2.12.0)\n",
      "Requirement already satisfied: tensorflow-intel==2.12.0 in c:\\users\\thara jeni\\anaconda3\\lib\\site-packages (from tensorflow) (2.12.0)\n",
      "Requirement already satisfied: tensorflow-io-gcs-filesystem>=0.23.1 in c:\\users\\thara jeni\\anaconda3\\lib\\site-packages (from tensorflow-intel==2.12.0->tensorflow) (0.31.0)\n",
      "Requirement already satisfied: termcolor>=1.1.0 in c:\\users\\thara jeni\\anaconda3\\lib\\site-packages (from tensorflow-intel==2.12.0->tensorflow) (2.2.0)\n",
      "Requirement already satisfied: gast<=0.4.0,>=0.2.1 in c:\\users\\thara jeni\\anaconda3\\lib\\site-packages (from tensorflow-intel==2.12.0->tensorflow) (0.4.0)\n",
      "Requirement already satisfied: protobuf!=4.21.0,!=4.21.1,!=4.21.2,!=4.21.3,!=4.21.4,!=4.21.5,<5.0.0dev,>=3.20.3 in c:\\users\\thara jeni\\anaconda3\\lib\\site-packages (from tensorflow-intel==2.12.0->tensorflow) (4.22.3)\n",
      "Requirement already satisfied: google-pasta>=0.1.1 in c:\\users\\thara jeni\\anaconda3\\lib\\site-packages (from tensorflow-intel==2.12.0->tensorflow) (0.2.0)\n",
      "Requirement already satisfied: tensorflow-estimator<2.13,>=2.12.0 in c:\\users\\thara jeni\\anaconda3\\lib\\site-packages (from tensorflow-intel==2.12.0->tensorflow) (2.12.0)\n",
      "Requirement already satisfied: typing-extensions>=3.6.6 in c:\\users\\thara jeni\\anaconda3\\lib\\site-packages (from tensorflow-intel==2.12.0->tensorflow) (4.3.0)\n",
      "Requirement already satisfied: packaging in c:\\users\\thara jeni\\anaconda3\\lib\\site-packages (from tensorflow-intel==2.12.0->tensorflow) (21.3)\n",
      "Requirement already satisfied: keras<2.13,>=2.12.0 in c:\\users\\thara jeni\\anaconda3\\lib\\site-packages (from tensorflow-intel==2.12.0->tensorflow) (2.12.0)\n",
      "Requirement already satisfied: numpy<1.24,>=1.22 in c:\\users\\thara jeni\\anaconda3\\lib\\site-packages (from tensorflow-intel==2.12.0->tensorflow) (1.23.5)\n",
      "Requirement already satisfied: grpcio<2.0,>=1.24.3 in c:\\users\\thara jeni\\anaconda3\\lib\\site-packages (from tensorflow-intel==2.12.0->tensorflow) (1.53.0)\n",
      "Requirement already satisfied: jax>=0.3.15 in c:\\users\\thara jeni\\anaconda3\\lib\\site-packages (from tensorflow-intel==2.12.0->tensorflow) (0.4.8)\n",
      "Requirement already satisfied: setuptools in c:\\users\\thara jeni\\anaconda3\\lib\\site-packages (from tensorflow-intel==2.12.0->tensorflow) (63.4.1)\n",
      "Requirement already satisfied: flatbuffers>=2.0 in c:\\users\\thara jeni\\anaconda3\\lib\\site-packages (from tensorflow-intel==2.12.0->tensorflow) (23.3.3)\n",
      "Requirement already satisfied: absl-py>=1.0.0 in c:\\users\\thara jeni\\anaconda3\\lib\\site-packages (from tensorflow-intel==2.12.0->tensorflow) (1.4.0)\n",
      "Requirement already satisfied: h5py>=2.9.0 in c:\\users\\thara jeni\\anaconda3\\lib\\site-packages (from tensorflow-intel==2.12.0->tensorflow) (3.7.0)\n",
      "Requirement already satisfied: opt-einsum>=2.3.2 in c:\\users\\thara jeni\\anaconda3\\lib\\site-packages (from tensorflow-intel==2.12.0->tensorflow) (3.3.0)\n",
      "Requirement already satisfied: tensorboard<2.13,>=2.12 in c:\\users\\thara jeni\\anaconda3\\lib\\site-packages (from tensorflow-intel==2.12.0->tensorflow) (2.12.2)\n",
      "Requirement already satisfied: wrapt<1.15,>=1.11.0 in c:\\users\\thara jeni\\anaconda3\\lib\\site-packages (from tensorflow-intel==2.12.0->tensorflow) (1.14.1)\n",
      "Requirement already satisfied: libclang>=13.0.0 in c:\\users\\thara jeni\\anaconda3\\lib\\site-packages (from tensorflow-intel==2.12.0->tensorflow) (16.0.0)\n",
      "Requirement already satisfied: astunparse>=1.6.0 in c:\\users\\thara jeni\\anaconda3\\lib\\site-packages (from tensorflow-intel==2.12.0->tensorflow) (1.6.3)\n",
      "Requirement already satisfied: six>=1.12.0 in c:\\users\\thara jeni\\anaconda3\\lib\\site-packages (from tensorflow-intel==2.12.0->tensorflow) (1.16.0)\n",
      "Requirement already satisfied: wheel<1.0,>=0.23.0 in c:\\users\\thara jeni\\anaconda3\\lib\\site-packages (from astunparse>=1.6.0->tensorflow-intel==2.12.0->tensorflow) (0.37.1)\n",
      "Requirement already satisfied: scipy>=1.7 in c:\\users\\thara jeni\\anaconda3\\lib\\site-packages (from jax>=0.3.15->tensorflow-intel==2.12.0->tensorflow) (1.9.1)\n",
      "Requirement already satisfied: ml-dtypes>=0.0.3 in c:\\users\\thara jeni\\anaconda3\\lib\\site-packages (from jax>=0.3.15->tensorflow-intel==2.12.0->tensorflow) (0.1.0)\n",
      "Requirement already satisfied: werkzeug>=1.0.1 in c:\\users\\thara jeni\\anaconda3\\lib\\site-packages (from tensorboard<2.13,>=2.12->tensorflow-intel==2.12.0->tensorflow) (2.0.3)\n",
      "Requirement already satisfied: google-auth<3,>=1.6.3 in c:\\users\\thara jeni\\anaconda3\\lib\\site-packages (from tensorboard<2.13,>=2.12->tensorflow-intel==2.12.0->tensorflow) (2.17.3)\n",
      "Requirement already satisfied: requests<3,>=2.21.0 in c:\\users\\thara jeni\\anaconda3\\lib\\site-packages (from tensorboard<2.13,>=2.12->tensorflow-intel==2.12.0->tensorflow) (2.28.1)\n",
      "Requirement already satisfied: tensorboard-data-server<0.8.0,>=0.7.0 in c:\\users\\thara jeni\\anaconda3\\lib\\site-packages (from tensorboard<2.13,>=2.12->tensorflow-intel==2.12.0->tensorflow) (0.7.0)\n",
      "Requirement already satisfied: google-auth-oauthlib<1.1,>=0.5 in c:\\users\\thara jeni\\anaconda3\\lib\\site-packages (from tensorboard<2.13,>=2.12->tensorflow-intel==2.12.0->tensorflow) (1.0.0)\n",
      "Requirement already satisfied: tensorboard-plugin-wit>=1.6.0 in c:\\users\\thara jeni\\anaconda3\\lib\\site-packages (from tensorboard<2.13,>=2.12->tensorflow-intel==2.12.0->tensorflow) (1.8.1)\n",
      "Requirement already satisfied: markdown>=2.6.8 in c:\\users\\thara jeni\\anaconda3\\lib\\site-packages (from tensorboard<2.13,>=2.12->tensorflow-intel==2.12.0->tensorflow) (3.3.4)\n",
      "Requirement already satisfied: pyparsing!=3.0.5,>=2.0.2 in c:\\users\\thara jeni\\anaconda3\\lib\\site-packages (from packaging->tensorflow-intel==2.12.0->tensorflow) (3.0.9)\n",
      "Requirement already satisfied: pyasn1-modules>=0.2.1 in c:\\users\\thara jeni\\anaconda3\\lib\\site-packages (from google-auth<3,>=1.6.3->tensorboard<2.13,>=2.12->tensorflow-intel==2.12.0->tensorflow) (0.2.8)\n",
      "Requirement already satisfied: rsa<5,>=3.1.4 in c:\\users\\thara jeni\\anaconda3\\lib\\site-packages (from google-auth<3,>=1.6.3->tensorboard<2.13,>=2.12->tensorflow-intel==2.12.0->tensorflow) (4.9)\n",
      "Requirement already satisfied: cachetools<6.0,>=2.0.0 in c:\\users\\thara jeni\\anaconda3\\lib\\site-packages (from google-auth<3,>=1.6.3->tensorboard<2.13,>=2.12->tensorflow-intel==2.12.0->tensorflow) (5.3.0)\n",
      "Requirement already satisfied: requests-oauthlib>=0.7.0 in c:\\users\\thara jeni\\anaconda3\\lib\\site-packages (from google-auth-oauthlib<1.1,>=0.5->tensorboard<2.13,>=2.12->tensorflow-intel==2.12.0->tensorflow) (1.3.1)\n",
      "Requirement already satisfied: charset-normalizer<3,>=2 in c:\\users\\thara jeni\\anaconda3\\lib\\site-packages (from requests<3,>=2.21.0->tensorboard<2.13,>=2.12->tensorflow-intel==2.12.0->tensorflow) (2.0.4)\n",
      "Requirement already satisfied: idna<4,>=2.5 in c:\\users\\thara jeni\\anaconda3\\lib\\site-packages (from requests<3,>=2.21.0->tensorboard<2.13,>=2.12->tensorflow-intel==2.12.0->tensorflow) (3.3)\n",
      "Requirement already satisfied: certifi>=2017.4.17 in c:\\users\\thara jeni\\anaconda3\\lib\\site-packages (from requests<3,>=2.21.0->tensorboard<2.13,>=2.12->tensorflow-intel==2.12.0->tensorflow) (2022.9.14)\n",
      "Requirement already satisfied: urllib3<1.27,>=1.21.1 in c:\\users\\thara jeni\\anaconda3\\lib\\site-packages (from requests<3,>=2.21.0->tensorboard<2.13,>=2.12->tensorflow-intel==2.12.0->tensorflow) (1.26.11)\n",
      "Requirement already satisfied: pyasn1<0.5.0,>=0.4.6 in c:\\users\\thara jeni\\anaconda3\\lib\\site-packages (from pyasn1-modules>=0.2.1->google-auth<3,>=1.6.3->tensorboard<2.13,>=2.12->tensorflow-intel==2.12.0->tensorflow) (0.4.8)\n",
      "Requirement already satisfied: oauthlib>=3.0.0 in c:\\users\\thara jeni\\anaconda3\\lib\\site-packages (from requests-oauthlib>=0.7.0->google-auth-oauthlib<1.1,>=0.5->tensorboard<2.13,>=2.12->tensorflow-intel==2.12.0->tensorflow) (3.2.2)\n"
     ]
    }
   ],
   "source": [
    "#Importing required libraries\n",
    "import pandas as pd\n",
    "import numpy as np\n",
    "import seaborn as sns\n",
    "import matplotlib.pyplot as plt\n",
    "%matplotlib inline\n",
    "# import warnings filter\n",
    "from warnings import simplefilter\n",
    "# ignore all future warnings\n",
    "simplefilter(action='ignore', category=FutureWarning)\n",
    "import warnings as wrng\n",
    "wrng.filterwarnings('ignore')\n",
    "from sklearn.model_selection import KFold, cross_val_score\n",
    "from sklearn.model_selection import GridSearchCV\n",
    "!pip install imbalanced-learn\n",
    "!pip install tensorflow\n",
    "import tensorflow as tf\n",
    "from pandas.plotting import autocorrelation_plot\n",
    "from pandas.plotting import scatter_matrix\n",
    "from collections import Counter\n",
    "from imblearn import under_sampling, over_sampling\n",
    "from imblearn.over_sampling import SMOTE\n",
    "from imblearn.under_sampling import NearMiss\n",
    "from imblearn.over_sampling import RandomOverSampler\n",
    "from sklearn.linear_model import LogisticRegression\n",
    "from sklearn.metrics import accuracy_score,confusion_matrix,classification_report,plot_confusion_matrix\n",
    "from sklearn.metrics import explained_variance_score,mean_absolute_error,r2_score\n",
    "from sklearn.metrics import precision_score, recall_score\n",
    "from time import time\n",
    "from sklearn.linear_model import LinearRegression,Ridge,Lasso\n",
    "# Model Evaluation Metrics\n",
    "import sklearn.metrics as metrics\n",
    "from sklearn.metrics import mean_absolute_error\n",
    "from sklearn.metrics import mean_squared_error\n",
    "from sklearn.metrics import r2_score\n",
    "from sklearn.model_selection import GridSearchCV\n"
   ]
  },
  {
   "cell_type": "markdown",
   "id": "16dad4a9",
   "metadata": {},
   "source": [
    "## Loading Data"
   ]
  },
  {
   "cell_type": "code",
   "execution_count": 2,
   "id": "f1ddcdce",
   "metadata": {
    "scrolled": true
   },
   "outputs": [
    {
     "data": {
      "text/html": [
       "<div>\n",
       "<style scoped>\n",
       "    .dataframe tbody tr th:only-of-type {\n",
       "        vertical-align: middle;\n",
       "    }\n",
       "\n",
       "    .dataframe tbody tr th {\n",
       "        vertical-align: top;\n",
       "    }\n",
       "\n",
       "    .dataframe thead th {\n",
       "        text-align: right;\n",
       "    }\n",
       "</style>\n",
       "<table border=\"1\" class=\"dataframe\">\n",
       "  <thead>\n",
       "    <tr style=\"text-align: right;\">\n",
       "      <th></th>\n",
       "      <th>Sales/Revenues</th>\n",
       "      <th>Gross Margin</th>\n",
       "      <th>EBITDA</th>\n",
       "      <th>EBITDA Margin</th>\n",
       "      <th>Net Income Before Extras</th>\n",
       "      <th>Total Debt</th>\n",
       "      <th>Net Debt</th>\n",
       "      <th>LT Debt</th>\n",
       "      <th>ST Debt</th>\n",
       "      <th>Cash</th>\n",
       "      <th>...</th>\n",
       "      <th>Interest Coverage</th>\n",
       "      <th>Total Liquidity</th>\n",
       "      <th>Current Liquidity</th>\n",
       "      <th>Current Liabilities</th>\n",
       "      <th>EPS Before Extras</th>\n",
       "      <th>PE</th>\n",
       "      <th>ROA</th>\n",
       "      <th>ROE</th>\n",
       "      <th>InvGrd</th>\n",
       "      <th>Rating</th>\n",
       "    </tr>\n",
       "  </thead>\n",
       "  <tbody>\n",
       "    <tr>\n",
       "      <th>0</th>\n",
       "      <td>-0.005496</td>\n",
       "      <td>0.030763</td>\n",
       "      <td>0.018885</td>\n",
       "      <td>0.024515</td>\n",
       "      <td>0.146849</td>\n",
       "      <td>-0.029710</td>\n",
       "      <td>-0.019296</td>\n",
       "      <td>-0.042648</td>\n",
       "      <td>0.049875</td>\n",
       "      <td>-0.133716</td>\n",
       "      <td>...</td>\n",
       "      <td>0.136748</td>\n",
       "      <td>0.392143</td>\n",
       "      <td>-0.184887</td>\n",
       "      <td>0.062781</td>\n",
       "      <td>0.148305</td>\n",
       "      <td>0.100409</td>\n",
       "      <td>0.163266</td>\n",
       "      <td>0.102521</td>\n",
       "      <td>1</td>\n",
       "      <td>A1</td>\n",
       "    </tr>\n",
       "    <tr>\n",
       "      <th>1</th>\n",
       "      <td>-0.005496</td>\n",
       "      <td>0.030763</td>\n",
       "      <td>0.088716</td>\n",
       "      <td>0.094733</td>\n",
       "      <td>0.146849</td>\n",
       "      <td>-0.029710</td>\n",
       "      <td>-0.019296</td>\n",
       "      <td>-0.042648</td>\n",
       "      <td>0.049875</td>\n",
       "      <td>-0.133716</td>\n",
       "      <td>...</td>\n",
       "      <td>0.214657</td>\n",
       "      <td>0.392143</td>\n",
       "      <td>-0.184887</td>\n",
       "      <td>0.062781</td>\n",
       "      <td>0.148305</td>\n",
       "      <td>-0.089598</td>\n",
       "      <td>0.163266</td>\n",
       "      <td>0.102521</td>\n",
       "      <td>1</td>\n",
       "      <td>A1</td>\n",
       "    </tr>\n",
       "    <tr>\n",
       "      <th>2</th>\n",
       "      <td>-0.007045</td>\n",
       "      <td>0.023159</td>\n",
       "      <td>0.088716</td>\n",
       "      <td>0.096440</td>\n",
       "      <td>0.108590</td>\n",
       "      <td>0.039410</td>\n",
       "      <td>0.034268</td>\n",
       "      <td>0.009059</td>\n",
       "      <td>0.250371</td>\n",
       "      <td>0.101315</td>\n",
       "      <td>...</td>\n",
       "      <td>0.205290</td>\n",
       "      <td>0.483257</td>\n",
       "      <td>-0.017877</td>\n",
       "      <td>0.121357</td>\n",
       "      <td>0.110656</td>\n",
       "      <td>-0.045142</td>\n",
       "      <td>0.105711</td>\n",
       "      <td>0.103378</td>\n",
       "      <td>1</td>\n",
       "      <td>A1</td>\n",
       "    </tr>\n",
       "    <tr>\n",
       "      <th>3</th>\n",
       "      <td>-0.009396</td>\n",
       "      <td>0.028400</td>\n",
       "      <td>0.088716</td>\n",
       "      <td>0.099046</td>\n",
       "      <td>0.146137</td>\n",
       "      <td>0.030071</td>\n",
       "      <td>0.036938</td>\n",
       "      <td>-0.016964</td>\n",
       "      <td>0.356994</td>\n",
       "      <td>-0.052606</td>\n",
       "      <td>...</td>\n",
       "      <td>0.232991</td>\n",
       "      <td>0.996955</td>\n",
       "      <td>-0.122017</td>\n",
       "      <td>0.079051</td>\n",
       "      <td>0.151639</td>\n",
       "      <td>-0.008231</td>\n",
       "      <td>0.162421</td>\n",
       "      <td>0.132295</td>\n",
       "      <td>1</td>\n",
       "      <td>A1</td>\n",
       "    </tr>\n",
       "    <tr>\n",
       "      <th>4</th>\n",
       "      <td>-0.009009</td>\n",
       "      <td>0.027714</td>\n",
       "      <td>0.088716</td>\n",
       "      <td>0.098611</td>\n",
       "      <td>0.123500</td>\n",
       "      <td>0.024224</td>\n",
       "      <td>0.034445</td>\n",
       "      <td>-0.034132</td>\n",
       "      <td>0.461894</td>\n",
       "      <td>-0.090869</td>\n",
       "      <td>...</td>\n",
       "      <td>0.172906</td>\n",
       "      <td>1.711426</td>\n",
       "      <td>-0.161561</td>\n",
       "      <td>0.084319</td>\n",
       "      <td>0.130435</td>\n",
       "      <td>0.015528</td>\n",
       "      <td>0.156427</td>\n",
       "      <td>0.225144</td>\n",
       "      <td>1</td>\n",
       "      <td>A1</td>\n",
       "    </tr>\n",
       "  </tbody>\n",
       "</table>\n",
       "<p>5 rows × 28 columns</p>\n",
       "</div>"
      ],
      "text/plain": [
       "   Sales/Revenues  Gross Margin    EBITDA  EBITDA Margin  \\\n",
       "0       -0.005496      0.030763  0.018885       0.024515   \n",
       "1       -0.005496      0.030763  0.088716       0.094733   \n",
       "2       -0.007045      0.023159  0.088716       0.096440   \n",
       "3       -0.009396      0.028400  0.088716       0.099046   \n",
       "4       -0.009009      0.027714  0.088716       0.098611   \n",
       "\n",
       "   Net Income Before Extras  Total Debt  Net Debt   LT Debt   ST Debt  \\\n",
       "0                  0.146849   -0.029710 -0.019296 -0.042648  0.049875   \n",
       "1                  0.146849   -0.029710 -0.019296 -0.042648  0.049875   \n",
       "2                  0.108590    0.039410  0.034268  0.009059  0.250371   \n",
       "3                  0.146137    0.030071  0.036938 -0.016964  0.356994   \n",
       "4                  0.123500    0.024224  0.034445 -0.034132  0.461894   \n",
       "\n",
       "       Cash  ...  Interest Coverage  Total Liquidity  Current Liquidity  \\\n",
       "0 -0.133716  ...           0.136748         0.392143          -0.184887   \n",
       "1 -0.133716  ...           0.214657         0.392143          -0.184887   \n",
       "2  0.101315  ...           0.205290         0.483257          -0.017877   \n",
       "3 -0.052606  ...           0.232991         0.996955          -0.122017   \n",
       "4 -0.090869  ...           0.172906         1.711426          -0.161561   \n",
       "\n",
       "   Current Liabilities  EPS Before Extras        PE       ROA       ROE  \\\n",
       "0             0.062781           0.148305  0.100409  0.163266  0.102521   \n",
       "1             0.062781           0.148305 -0.089598  0.163266  0.102521   \n",
       "2             0.121357           0.110656 -0.045142  0.105711  0.103378   \n",
       "3             0.079051           0.151639 -0.008231  0.162421  0.132295   \n",
       "4             0.084319           0.130435  0.015528  0.156427  0.225144   \n",
       "\n",
       "   InvGrd  Rating  \n",
       "0       1      A1  \n",
       "1       1      A1  \n",
       "2       1      A1  \n",
       "3       1      A1  \n",
       "4       1      A1  \n",
       "\n",
       "[5 rows x 28 columns]"
      ]
     },
     "execution_count": 2,
     "metadata": {},
     "output_type": "execute_result"
    }
   ],
   "source": [
    "#Reading the given data\n",
    "df=pd.read_csv('C:/Users/Thara Jeni/Desktop/Finance/MLF_GP1_CreditScore.csv')\n",
    "df.head()"
   ]
  },
  {
   "cell_type": "markdown",
   "id": "e6e741df",
   "metadata": {},
   "source": [
    "# Data Analysis"
   ]
  },
  {
   "cell_type": "code",
   "execution_count": 3,
   "id": "1c82a915",
   "metadata": {},
   "outputs": [
    {
     "name": "stdout",
     "output_type": "stream",
     "text": [
      "(1700, 28)\n"
     ]
    }
   ],
   "source": [
    "#Shape of the data\n",
    "print(df.shape)"
   ]
  },
  {
   "cell_type": "code",
   "execution_count": 4,
   "id": "9664e39b",
   "metadata": {},
   "outputs": [
    {
     "name": "stdout",
     "output_type": "stream",
     "text": [
      "<class 'pandas.core.frame.DataFrame'>\n",
      "RangeIndex: 1700 entries, 0 to 1699\n",
      "Data columns (total 28 columns):\n",
      " #   Column                    Non-Null Count  Dtype  \n",
      "---  ------                    --------------  -----  \n",
      " 0   Sales/Revenues            1700 non-null   float64\n",
      " 1   Gross Margin              1700 non-null   float64\n",
      " 2   EBITDA                    1700 non-null   float64\n",
      " 3   EBITDA Margin             1700 non-null   float64\n",
      " 4   Net Income Before Extras  1700 non-null   float64\n",
      " 5   Total Debt                1700 non-null   float64\n",
      " 6   Net Debt                  1700 non-null   float64\n",
      " 7   LT Debt                   1700 non-null   float64\n",
      " 8   ST Debt                   1700 non-null   float64\n",
      " 9   Cash                      1700 non-null   float64\n",
      " 10  Free Cash Flow            1700 non-null   float64\n",
      " 11  Total Debt/EBITDA         1700 non-null   float64\n",
      " 12  Net Debt/EBITDA           1700 non-null   float64\n",
      " 13  Total MV                  1700 non-null   float64\n",
      " 14  Total Debt/MV             1700 non-null   float64\n",
      " 15  Net Debt/MV               1700 non-null   float64\n",
      " 16  CFO/Debt                  1700 non-null   float64\n",
      " 17  CFO                       1700 non-null   float64\n",
      " 18  Interest Coverage         1700 non-null   float64\n",
      " 19  Total Liquidity           1700 non-null   float64\n",
      " 20  Current Liquidity         1700 non-null   float64\n",
      " 21  Current Liabilities       1700 non-null   float64\n",
      " 22  EPS Before Extras         1700 non-null   float64\n",
      " 23  PE                        1700 non-null   float64\n",
      " 24  ROA                       1700 non-null   float64\n",
      " 25  ROE                       1700 non-null   float64\n",
      " 26  InvGrd                    1700 non-null   int64  \n",
      " 27  Rating                    1700 non-null   object \n",
      "dtypes: float64(26), int64(1), object(1)\n",
      "memory usage: 372.0+ KB\n"
     ]
    }
   ],
   "source": [
    "#understanding the data with its information about columns,its data types,its counts\n",
    "df.info()"
   ]
  },
  {
   "cell_type": "markdown",
   "id": "27abc7ec",
   "metadata": {},
   "source": [
    "**Note:** Given dataset has no missing values and also only Rating column has string values, rest of the features has float and int values."
   ]
  },
  {
   "cell_type": "code",
   "execution_count": 5,
   "id": "11ee9fe4",
   "metadata": {},
   "outputs": [
    {
     "data": {
      "text/html": [
       "<div>\n",
       "<style scoped>\n",
       "    .dataframe tbody tr th:only-of-type {\n",
       "        vertical-align: middle;\n",
       "    }\n",
       "\n",
       "    .dataframe tbody tr th {\n",
       "        vertical-align: top;\n",
       "    }\n",
       "\n",
       "    .dataframe thead th {\n",
       "        text-align: right;\n",
       "    }\n",
       "</style>\n",
       "<table border=\"1\" class=\"dataframe\">\n",
       "  <thead>\n",
       "    <tr style=\"text-align: right;\">\n",
       "      <th></th>\n",
       "      <th>Sales/Revenues</th>\n",
       "      <th>Gross Margin</th>\n",
       "      <th>EBITDA</th>\n",
       "      <th>EBITDA Margin</th>\n",
       "      <th>Net Income Before Extras</th>\n",
       "      <th>Total Debt</th>\n",
       "      <th>Net Debt</th>\n",
       "      <th>LT Debt</th>\n",
       "      <th>ST Debt</th>\n",
       "      <th>Cash</th>\n",
       "      <th>...</th>\n",
       "      <th>CFO</th>\n",
       "      <th>Interest Coverage</th>\n",
       "      <th>Total Liquidity</th>\n",
       "      <th>Current Liquidity</th>\n",
       "      <th>Current Liabilities</th>\n",
       "      <th>EPS Before Extras</th>\n",
       "      <th>PE</th>\n",
       "      <th>ROA</th>\n",
       "      <th>ROE</th>\n",
       "      <th>InvGrd</th>\n",
       "    </tr>\n",
       "  </thead>\n",
       "  <tbody>\n",
       "    <tr>\n",
       "      <th>count</th>\n",
       "      <td>1700.000000</td>\n",
       "      <td>1700.000000</td>\n",
       "      <td>1700.000000</td>\n",
       "      <td>1700.000000</td>\n",
       "      <td>1700.000000</td>\n",
       "      <td>1700.000000</td>\n",
       "      <td>1700.000000</td>\n",
       "      <td>1700.000000</td>\n",
       "      <td>1700.000000</td>\n",
       "      <td>1700.000000</td>\n",
       "      <td>...</td>\n",
       "      <td>1700.000000</td>\n",
       "      <td>1700.000000</td>\n",
       "      <td>1700.000000</td>\n",
       "      <td>1700.000000</td>\n",
       "      <td>1700.000000</td>\n",
       "      <td>1700.000000</td>\n",
       "      <td>1700.000000</td>\n",
       "      <td>1700.000000</td>\n",
       "      <td>1700.000000</td>\n",
       "      <td>1700.000000</td>\n",
       "    </tr>\n",
       "    <tr>\n",
       "      <th>mean</th>\n",
       "      <td>0.050378</td>\n",
       "      <td>0.026007</td>\n",
       "      <td>0.068718</td>\n",
       "      <td>0.021074</td>\n",
       "      <td>0.123026</td>\n",
       "      <td>0.822405</td>\n",
       "      <td>-0.419810</td>\n",
       "      <td>1.255168</td>\n",
       "      <td>3.142797</td>\n",
       "      <td>0.466620</td>\n",
       "      <td>...</td>\n",
       "      <td>-0.189317</td>\n",
       "      <td>0.298785</td>\n",
       "      <td>-0.855714</td>\n",
       "      <td>0.436002</td>\n",
       "      <td>0.072802</td>\n",
       "      <td>0.032196</td>\n",
       "      <td>0.497705</td>\n",
       "      <td>0.019394</td>\n",
       "      <td>-0.217604</td>\n",
       "      <td>0.757059</td>\n",
       "    </tr>\n",
       "    <tr>\n",
       "      <th>std</th>\n",
       "      <td>0.161910</td>\n",
       "      <td>0.273768</td>\n",
       "      <td>0.237365</td>\n",
       "      <td>0.189025</td>\n",
       "      <td>14.475689</td>\n",
       "      <td>13.317075</td>\n",
       "      <td>28.385702</td>\n",
       "      <td>16.224453</td>\n",
       "      <td>51.986550</td>\n",
       "      <td>1.859494</td>\n",
       "      <td>...</td>\n",
       "      <td>5.668669</td>\n",
       "      <td>5.265291</td>\n",
       "      <td>22.926862</td>\n",
       "      <td>1.904282</td>\n",
       "      <td>0.266471</td>\n",
       "      <td>6.151994</td>\n",
       "      <td>12.102502</td>\n",
       "      <td>14.594193</td>\n",
       "      <td>15.389000</td>\n",
       "      <td>0.428986</td>\n",
       "    </tr>\n",
       "    <tr>\n",
       "      <th>min</th>\n",
       "      <td>-0.661715</td>\n",
       "      <td>-0.794722</td>\n",
       "      <td>-0.782254</td>\n",
       "      <td>-0.805153</td>\n",
       "      <td>-289.000000</td>\n",
       "      <td>-0.903014</td>\n",
       "      <td>-493.305578</td>\n",
       "      <td>-0.921515</td>\n",
       "      <td>-0.997692</td>\n",
       "      <td>-0.990982</td>\n",
       "      <td>...</td>\n",
       "      <td>-161.609425</td>\n",
       "      <td>-0.991976</td>\n",
       "      <td>-502.000000</td>\n",
       "      <td>-0.994141</td>\n",
       "      <td>-0.684678</td>\n",
       "      <td>-96.250000</td>\n",
       "      <td>-59.795133</td>\n",
       "      <td>-305.462167</td>\n",
       "      <td>-373.837267</td>\n",
       "      <td>0.000000</td>\n",
       "    </tr>\n",
       "    <tr>\n",
       "      <th>25%</th>\n",
       "      <td>-0.005693</td>\n",
       "      <td>-0.020028</td>\n",
       "      <td>-0.022640</td>\n",
       "      <td>-0.042771</td>\n",
       "      <td>-0.158478</td>\n",
       "      <td>-0.076316</td>\n",
       "      <td>-0.120725</td>\n",
       "      <td>-0.094767</td>\n",
       "      <td>-0.337959</td>\n",
       "      <td>-0.195117</td>\n",
       "      <td>...</td>\n",
       "      <td>-0.115159</td>\n",
       "      <td>-0.096996</td>\n",
       "      <td>-0.857013</td>\n",
       "      <td>-0.227327</td>\n",
       "      <td>-0.072734</td>\n",
       "      <td>-0.152894</td>\n",
       "      <td>-0.293521</td>\n",
       "      <td>-0.208483</td>\n",
       "      <td>-0.233955</td>\n",
       "      <td>1.000000</td>\n",
       "    </tr>\n",
       "    <tr>\n",
       "      <th>50%</th>\n",
       "      <td>0.034000</td>\n",
       "      <td>0.003403</td>\n",
       "      <td>0.049482</td>\n",
       "      <td>0.011134</td>\n",
       "      <td>0.056627</td>\n",
       "      <td>0.005886</td>\n",
       "      <td>-0.003060</td>\n",
       "      <td>-0.002078</td>\n",
       "      <td>0.043092</td>\n",
       "      <td>0.075820</td>\n",
       "      <td>...</td>\n",
       "      <td>0.046983</td>\n",
       "      <td>0.043216</td>\n",
       "      <td>-0.229098</td>\n",
       "      <td>0.040446</td>\n",
       "      <td>0.041785</td>\n",
       "      <td>0.066027</td>\n",
       "      <td>-0.040405</td>\n",
       "      <td>-0.009403</td>\n",
       "      <td>-0.020392</td>\n",
       "      <td>1.000000</td>\n",
       "    </tr>\n",
       "    <tr>\n",
       "      <th>75%</th>\n",
       "      <td>0.083004</td>\n",
       "      <td>0.025595</td>\n",
       "      <td>0.124533</td>\n",
       "      <td>0.060566</td>\n",
       "      <td>0.222219</td>\n",
       "      <td>0.136449</td>\n",
       "      <td>0.160251</td>\n",
       "      <td>0.174735</td>\n",
       "      <td>0.649475</td>\n",
       "      <td>0.483113</td>\n",
       "      <td>...</td>\n",
       "      <td>0.216432</td>\n",
       "      <td>0.177340</td>\n",
       "      <td>0.512778</td>\n",
       "      <td>0.416067</td>\n",
       "      <td>0.161215</td>\n",
       "      <td>0.236046</td>\n",
       "      <td>0.168897</td>\n",
       "      <td>0.156136</td>\n",
       "      <td>0.201596</td>\n",
       "      <td>1.000000</td>\n",
       "    </tr>\n",
       "    <tr>\n",
       "      <th>max</th>\n",
       "      <td>2.277229</td>\n",
       "      <td>3.202713</td>\n",
       "      <td>3.542425</td>\n",
       "      <td>4.141182</td>\n",
       "      <td>478.280075</td>\n",
       "      <td>281.604237</td>\n",
       "      <td>865.194595</td>\n",
       "      <td>289.388178</td>\n",
       "      <td>2038.000000</td>\n",
       "      <td>36.980037</td>\n",
       "      <td>...</td>\n",
       "      <td>13.005788</td>\n",
       "      <td>182.131887</td>\n",
       "      <td>280.138728</td>\n",
       "      <td>34.372455</td>\n",
       "      <td>4.194381</td>\n",
       "      <td>187.000000</td>\n",
       "      <td>381.243282</td>\n",
       "      <td>474.847172</td>\n",
       "      <td>343.145356</td>\n",
       "      <td>1.000000</td>\n",
       "    </tr>\n",
       "  </tbody>\n",
       "</table>\n",
       "<p>8 rows × 27 columns</p>\n",
       "</div>"
      ],
      "text/plain": [
       "       Sales/Revenues  Gross Margin       EBITDA  EBITDA Margin  \\\n",
       "count     1700.000000   1700.000000  1700.000000    1700.000000   \n",
       "mean         0.050378      0.026007     0.068718       0.021074   \n",
       "std          0.161910      0.273768     0.237365       0.189025   \n",
       "min         -0.661715     -0.794722    -0.782254      -0.805153   \n",
       "25%         -0.005693     -0.020028    -0.022640      -0.042771   \n",
       "50%          0.034000      0.003403     0.049482       0.011134   \n",
       "75%          0.083004      0.025595     0.124533       0.060566   \n",
       "max          2.277229      3.202713     3.542425       4.141182   \n",
       "\n",
       "       Net Income Before Extras   Total Debt     Net Debt      LT Debt  \\\n",
       "count               1700.000000  1700.000000  1700.000000  1700.000000   \n",
       "mean                   0.123026     0.822405    -0.419810     1.255168   \n",
       "std                   14.475689    13.317075    28.385702    16.224453   \n",
       "min                 -289.000000    -0.903014  -493.305578    -0.921515   \n",
       "25%                   -0.158478    -0.076316    -0.120725    -0.094767   \n",
       "50%                    0.056627     0.005886    -0.003060    -0.002078   \n",
       "75%                    0.222219     0.136449     0.160251     0.174735   \n",
       "max                  478.280075   281.604237   865.194595   289.388178   \n",
       "\n",
       "           ST Debt         Cash  ...          CFO  Interest Coverage  \\\n",
       "count  1700.000000  1700.000000  ...  1700.000000        1700.000000   \n",
       "mean      3.142797     0.466620  ...    -0.189317           0.298785   \n",
       "std      51.986550     1.859494  ...     5.668669           5.265291   \n",
       "min      -0.997692    -0.990982  ...  -161.609425          -0.991976   \n",
       "25%      -0.337959    -0.195117  ...    -0.115159          -0.096996   \n",
       "50%       0.043092     0.075820  ...     0.046983           0.043216   \n",
       "75%       0.649475     0.483113  ...     0.216432           0.177340   \n",
       "max    2038.000000    36.980037  ...    13.005788         182.131887   \n",
       "\n",
       "       Total Liquidity  Current Liquidity  Current Liabilities  \\\n",
       "count      1700.000000        1700.000000          1700.000000   \n",
       "mean         -0.855714           0.436002             0.072802   \n",
       "std          22.926862           1.904282             0.266471   \n",
       "min        -502.000000          -0.994141            -0.684678   \n",
       "25%          -0.857013          -0.227327            -0.072734   \n",
       "50%          -0.229098           0.040446             0.041785   \n",
       "75%           0.512778           0.416067             0.161215   \n",
       "max         280.138728          34.372455             4.194381   \n",
       "\n",
       "       EPS Before Extras           PE          ROA          ROE       InvGrd  \n",
       "count        1700.000000  1700.000000  1700.000000  1700.000000  1700.000000  \n",
       "mean            0.032196     0.497705     0.019394    -0.217604     0.757059  \n",
       "std             6.151994    12.102502    14.594193    15.389000     0.428986  \n",
       "min           -96.250000   -59.795133  -305.462167  -373.837267     0.000000  \n",
       "25%            -0.152894    -0.293521    -0.208483    -0.233955     1.000000  \n",
       "50%             0.066027    -0.040405    -0.009403    -0.020392     1.000000  \n",
       "75%             0.236046     0.168897     0.156136     0.201596     1.000000  \n",
       "max           187.000000   381.243282   474.847172   343.145356     1.000000  \n",
       "\n",
       "[8 rows x 27 columns]"
      ]
     },
     "execution_count": 5,
     "metadata": {},
     "output_type": "execute_result"
    }
   ],
   "source": [
    "df.describe()"
   ]
  },
  {
   "cell_type": "markdown",
   "id": "ffda0748",
   "metadata": {},
   "source": [
    "#### Analyse Labels"
   ]
  },
  {
   "cell_type": "markdown",
   "id": "1ce8796d",
   "metadata": {},
   "source": [
    "As we know we are working with ordinal labels. That means there is a scale from more secure to less secure ratings.Here the ratings are *Moody's Rating scale*. For instance, *Aaa* is the most secure rating a company can receive. On the other hand, the rating *C* is the less secure. It means the company will likely default on its creditors. Let's have a first look at the how many ratings we have of each in the dataset."
   ]
  },
  {
   "cell_type": "code",
   "execution_count": 6,
   "id": "0793f987",
   "metadata": {},
   "outputs": [
    {
     "data": {
      "text/plain": [
       "Baa2    326\n",
       "Baa3    232\n",
       "Baa1    179\n",
       "Aa3     174\n",
       "A2      156\n",
       "Ba2     125\n",
       "A1      122\n",
       "Ba3     108\n",
       "B1       69\n",
       "Aa2      65\n",
       "B2       48\n",
       "B3       37\n",
       "A3       31\n",
       "Ba1      17\n",
       "Caa1      9\n",
       "Aaa       2\n",
       "Name: Rating, dtype: int64"
      ]
     },
     "execution_count": 6,
     "metadata": {},
     "output_type": "execute_result"
    }
   ],
   "source": [
    "df['Rating'].value_counts()"
   ]
  },
  {
   "cell_type": "code",
   "execution_count": 7,
   "id": "36eca1d8",
   "metadata": {},
   "outputs": [
    {
     "data": {
      "text/plain": [
       "1    1287\n",
       "0     413\n",
       "Name: InvGrd, dtype: int64"
      ]
     },
     "execution_count": 7,
     "metadata": {},
     "output_type": "execute_result"
    }
   ],
   "source": [
    "df['InvGrd'].value_counts()"
   ]
  },
  {
   "cell_type": "markdown",
   "id": "a7fd236a",
   "metadata": {},
   "source": [
    "From domain knowledge, noticed that the relation between two Features, *Rating* and *InvGrd*, where \n",
    "* the set {Aaa,Aa2,Aa3,A1,A2,A3,Baa1,Baa2,Baa3} has value 1 in InvGrd which means they are in an investment grade and \n",
    "* the set {Ba1,Ba2,Ba3,B1,B2,B3,Caa1} has value 0 in InvGrd which means they are in an non-investment grade.  \n",
    "\n",
    "So, next dropping the Rating column and proceed with InvGrd column as target/label to predict whether a firm is in an investment grade or not."
   ]
  },
  {
   "cell_type": "code",
   "execution_count": 8,
   "id": "daf18e6e",
   "metadata": {},
   "outputs": [
    {
     "data": {
      "text/html": [
       "<div>\n",
       "<style scoped>\n",
       "    .dataframe tbody tr th:only-of-type {\n",
       "        vertical-align: middle;\n",
       "    }\n",
       "\n",
       "    .dataframe tbody tr th {\n",
       "        vertical-align: top;\n",
       "    }\n",
       "\n",
       "    .dataframe thead th {\n",
       "        text-align: right;\n",
       "    }\n",
       "</style>\n",
       "<table border=\"1\" class=\"dataframe\">\n",
       "  <thead>\n",
       "    <tr style=\"text-align: right;\">\n",
       "      <th></th>\n",
       "      <th>Sales/Revenues</th>\n",
       "      <th>Gross Margin</th>\n",
       "      <th>EBITDA</th>\n",
       "      <th>EBITDA Margin</th>\n",
       "      <th>Net Income Before Extras</th>\n",
       "      <th>Total Debt</th>\n",
       "      <th>Net Debt</th>\n",
       "      <th>LT Debt</th>\n",
       "      <th>ST Debt</th>\n",
       "      <th>Cash</th>\n",
       "      <th>...</th>\n",
       "      <th>CFO</th>\n",
       "      <th>Interest Coverage</th>\n",
       "      <th>Total Liquidity</th>\n",
       "      <th>Current Liquidity</th>\n",
       "      <th>Current Liabilities</th>\n",
       "      <th>EPS Before Extras</th>\n",
       "      <th>PE</th>\n",
       "      <th>ROA</th>\n",
       "      <th>ROE</th>\n",
       "      <th>InvGrd</th>\n",
       "    </tr>\n",
       "  </thead>\n",
       "  <tbody>\n",
       "    <tr>\n",
       "      <th>0</th>\n",
       "      <td>-0.005496</td>\n",
       "      <td>0.030763</td>\n",
       "      <td>0.018885</td>\n",
       "      <td>0.024515</td>\n",
       "      <td>0.146849</td>\n",
       "      <td>-0.029710</td>\n",
       "      <td>-0.019296</td>\n",
       "      <td>-0.042648</td>\n",
       "      <td>0.049875</td>\n",
       "      <td>-0.133716</td>\n",
       "      <td>...</td>\n",
       "      <td>0.068526</td>\n",
       "      <td>0.136748</td>\n",
       "      <td>0.392143</td>\n",
       "      <td>-0.184887</td>\n",
       "      <td>0.062781</td>\n",
       "      <td>0.148305</td>\n",
       "      <td>0.100409</td>\n",
       "      <td>0.163266</td>\n",
       "      <td>0.102521</td>\n",
       "      <td>1</td>\n",
       "    </tr>\n",
       "    <tr>\n",
       "      <th>1</th>\n",
       "      <td>-0.005496</td>\n",
       "      <td>0.030763</td>\n",
       "      <td>0.088716</td>\n",
       "      <td>0.094733</td>\n",
       "      <td>0.146849</td>\n",
       "      <td>-0.029710</td>\n",
       "      <td>-0.019296</td>\n",
       "      <td>-0.042648</td>\n",
       "      <td>0.049875</td>\n",
       "      <td>-0.133716</td>\n",
       "      <td>...</td>\n",
       "      <td>0.068526</td>\n",
       "      <td>0.214657</td>\n",
       "      <td>0.392143</td>\n",
       "      <td>-0.184887</td>\n",
       "      <td>0.062781</td>\n",
       "      <td>0.148305</td>\n",
       "      <td>-0.089598</td>\n",
       "      <td>0.163266</td>\n",
       "      <td>0.102521</td>\n",
       "      <td>1</td>\n",
       "    </tr>\n",
       "    <tr>\n",
       "      <th>2</th>\n",
       "      <td>-0.007045</td>\n",
       "      <td>0.023159</td>\n",
       "      <td>0.088716</td>\n",
       "      <td>0.096440</td>\n",
       "      <td>0.108590</td>\n",
       "      <td>0.039410</td>\n",
       "      <td>0.034268</td>\n",
       "      <td>0.009059</td>\n",
       "      <td>0.250371</td>\n",
       "      <td>0.101315</td>\n",
       "      <td>...</td>\n",
       "      <td>0.068136</td>\n",
       "      <td>0.205290</td>\n",
       "      <td>0.483257</td>\n",
       "      <td>-0.017877</td>\n",
       "      <td>0.121357</td>\n",
       "      <td>0.110656</td>\n",
       "      <td>-0.045142</td>\n",
       "      <td>0.105711</td>\n",
       "      <td>0.103378</td>\n",
       "      <td>1</td>\n",
       "    </tr>\n",
       "    <tr>\n",
       "      <th>3</th>\n",
       "      <td>-0.009396</td>\n",
       "      <td>0.028400</td>\n",
       "      <td>0.088716</td>\n",
       "      <td>0.099046</td>\n",
       "      <td>0.146137</td>\n",
       "      <td>0.030071</td>\n",
       "      <td>0.036938</td>\n",
       "      <td>-0.016964</td>\n",
       "      <td>0.356994</td>\n",
       "      <td>-0.052606</td>\n",
       "      <td>...</td>\n",
       "      <td>0.073784</td>\n",
       "      <td>0.232991</td>\n",
       "      <td>0.996955</td>\n",
       "      <td>-0.122017</td>\n",
       "      <td>0.079051</td>\n",
       "      <td>0.151639</td>\n",
       "      <td>-0.008231</td>\n",
       "      <td>0.162421</td>\n",
       "      <td>0.132295</td>\n",
       "      <td>1</td>\n",
       "    </tr>\n",
       "    <tr>\n",
       "      <th>4</th>\n",
       "      <td>-0.009009</td>\n",
       "      <td>0.027714</td>\n",
       "      <td>0.088716</td>\n",
       "      <td>0.098611</td>\n",
       "      <td>0.123500</td>\n",
       "      <td>0.024224</td>\n",
       "      <td>0.034445</td>\n",
       "      <td>-0.034132</td>\n",
       "      <td>0.461894</td>\n",
       "      <td>-0.090869</td>\n",
       "      <td>...</td>\n",
       "      <td>0.132845</td>\n",
       "      <td>0.172906</td>\n",
       "      <td>1.711426</td>\n",
       "      <td>-0.161561</td>\n",
       "      <td>0.084319</td>\n",
       "      <td>0.130435</td>\n",
       "      <td>0.015528</td>\n",
       "      <td>0.156427</td>\n",
       "      <td>0.225144</td>\n",
       "      <td>1</td>\n",
       "    </tr>\n",
       "  </tbody>\n",
       "</table>\n",
       "<p>5 rows × 27 columns</p>\n",
       "</div>"
      ],
      "text/plain": [
       "   Sales/Revenues  Gross Margin    EBITDA  EBITDA Margin  \\\n",
       "0       -0.005496      0.030763  0.018885       0.024515   \n",
       "1       -0.005496      0.030763  0.088716       0.094733   \n",
       "2       -0.007045      0.023159  0.088716       0.096440   \n",
       "3       -0.009396      0.028400  0.088716       0.099046   \n",
       "4       -0.009009      0.027714  0.088716       0.098611   \n",
       "\n",
       "   Net Income Before Extras  Total Debt  Net Debt   LT Debt   ST Debt  \\\n",
       "0                  0.146849   -0.029710 -0.019296 -0.042648  0.049875   \n",
       "1                  0.146849   -0.029710 -0.019296 -0.042648  0.049875   \n",
       "2                  0.108590    0.039410  0.034268  0.009059  0.250371   \n",
       "3                  0.146137    0.030071  0.036938 -0.016964  0.356994   \n",
       "4                  0.123500    0.024224  0.034445 -0.034132  0.461894   \n",
       "\n",
       "       Cash  ...       CFO  Interest Coverage  Total Liquidity  \\\n",
       "0 -0.133716  ...  0.068526           0.136748         0.392143   \n",
       "1 -0.133716  ...  0.068526           0.214657         0.392143   \n",
       "2  0.101315  ...  0.068136           0.205290         0.483257   \n",
       "3 -0.052606  ...  0.073784           0.232991         0.996955   \n",
       "4 -0.090869  ...  0.132845           0.172906         1.711426   \n",
       "\n",
       "   Current Liquidity  Current Liabilities  EPS Before Extras        PE  \\\n",
       "0          -0.184887             0.062781           0.148305  0.100409   \n",
       "1          -0.184887             0.062781           0.148305 -0.089598   \n",
       "2          -0.017877             0.121357           0.110656 -0.045142   \n",
       "3          -0.122017             0.079051           0.151639 -0.008231   \n",
       "4          -0.161561             0.084319           0.130435  0.015528   \n",
       "\n",
       "        ROA       ROE  InvGrd  \n",
       "0  0.163266  0.102521       1  \n",
       "1  0.163266  0.102521       1  \n",
       "2  0.105711  0.103378       1  \n",
       "3  0.162421  0.132295       1  \n",
       "4  0.156427  0.225144       1  \n",
       "\n",
       "[5 rows x 27 columns]"
      ]
     },
     "execution_count": 8,
     "metadata": {},
     "output_type": "execute_result"
    }
   ],
   "source": [
    "# dropping the Rating column\n",
    "df1 = df.drop(['Rating'], axis=1)\n",
    "df1.head()"
   ]
  },
  {
   "cell_type": "markdown",
   "id": "ac6da702",
   "metadata": {},
   "source": [
    "**Note:** Last column *InvGrd* is our Target variable."
   ]
  },
  {
   "cell_type": "markdown",
   "id": "45514298",
   "metadata": {},
   "source": [
    "# Data Visualization"
   ]
  },
  {
   "cell_type": "code",
   "execution_count": 9,
   "id": "2218755f",
   "metadata": {},
   "outputs": [
    {
     "data": {
      "text/html": [
       "<div>\n",
       "<style scoped>\n",
       "    .dataframe tbody tr th:only-of-type {\n",
       "        vertical-align: middle;\n",
       "    }\n",
       "\n",
       "    .dataframe tbody tr th {\n",
       "        vertical-align: top;\n",
       "    }\n",
       "\n",
       "    .dataframe thead th {\n",
       "        text-align: right;\n",
       "    }\n",
       "</style>\n",
       "<table border=\"1\" class=\"dataframe\">\n",
       "  <thead>\n",
       "    <tr style=\"text-align: right;\">\n",
       "      <th></th>\n",
       "      <th>sub_values</th>\n",
       "      <th>counts</th>\n",
       "    </tr>\n",
       "  </thead>\n",
       "  <tbody>\n",
       "    <tr>\n",
       "      <th>0</th>\n",
       "      <td>1</td>\n",
       "      <td>1287</td>\n",
       "    </tr>\n",
       "    <tr>\n",
       "      <th>1</th>\n",
       "      <td>0</td>\n",
       "      <td>413</td>\n",
       "    </tr>\n",
       "  </tbody>\n",
       "</table>\n",
       "</div>"
      ],
      "text/plain": [
       "   sub_values  counts\n",
       "0           1    1287\n",
       "1           0     413"
      ]
     },
     "execution_count": 9,
     "metadata": {},
     "output_type": "execute_result"
    }
   ],
   "source": [
    "target_viz=df1['InvGrd'].value_counts().rename_axis('sub_values').reset_index(name='counts')\n",
    "target_viz.head()"
   ]
  },
  {
   "cell_type": "code",
   "execution_count": 10,
   "id": "44c2a5a3",
   "metadata": {},
   "outputs": [],
   "source": [
    "#set labels and values\n",
    "mylabels=target_viz.sub_values\n",
    "myvalues=target_viz.counts"
   ]
  },
  {
   "cell_type": "code",
   "execution_count": 11,
   "id": "9c4de42d",
   "metadata": {},
   "outputs": [
    {
     "data": {
      "image/png": "[encoded data removed]",
      "text/plain": [
       "<Figure size 640x480 with 1 Axes>"
      ]
     },
     "metadata": {},
     "output_type": "display_data"
    }
   ],
   "source": [
    "#visualize the price chart\n",
    "clr=['c','m']\n",
    "myexplode = [0.1, 0]\n",
    "plt.title('Pie-chart of Investment Grade vs Non-Investment grade')\n",
    "plt.pie(myvalues, labels = mylabels, explode = myexplode, startangle = 90, colors= clr, autopct='%.2f%%')\n",
    "plt.show()\n",
    "#autopct function returns list of strings used to label the wedge with their numerical values"
   ]
  },
  {
   "cell_type": "markdown",
   "id": "860e9c4e",
   "metadata": {},
   "source": [
    "**Note:** This Pie Chart of Investment Grade shows that the dataset is Imbalanced.So, next process is handling imbalanced dataset with different methods."
   ]
  },
  {
   "cell_type": "markdown",
   "id": "14da1268",
   "metadata": {},
   "source": [
    "## Splitting Train and Test Data"
   ]
  },
  {
   "cell_type": "code",
   "execution_count": 12,
   "id": "1945d3c4",
   "metadata": {},
   "outputs": [],
   "source": [
    "# Independent and Dependent Features\n",
    "x=df1.drop(\"InvGrd\",axis=1)\n",
    "y=df1.InvGrd"
   ]
  },
  {
   "cell_type": "code",
   "execution_count": 13,
   "id": "3be59c42",
   "metadata": {},
   "outputs": [],
   "source": [
    "from sklearn.model_selection import train_test_split\n",
    "x_train,x_test,y_train,y_test=train_test_split(x,y,train_size=0.8)"
   ]
  },
  {
   "cell_type": "code",
   "execution_count": 14,
   "id": "9e6e4ca2",
   "metadata": {},
   "outputs": [],
   "source": [
    "sns.set_theme(color_codes=True)"
   ]
  },
  {
   "cell_type": "markdown",
   "id": "5b6dc927",
   "metadata": {},
   "source": [
    "### Cross Validation"
   ]
  },
  {
   "cell_type": "code",
   "execution_count": 15,
   "id": "fa4570bc",
   "metadata": {},
   "outputs": [
    {
     "name": "stdout",
     "output_type": "stream",
     "text": [
      "Train: [ 340  341  342 ... 1697 1698 1699] | test: [  0   1   2   3   4   5   6   7   8   9  10  11  12  13  14  15  16  17\n",
      "  18  19  20  21  22  23  24  25  26  27  28  29  30  31  32  33  34  35\n",
      "  36  37  38  39  40  41  42  43  44  45  46  47  48  49  50  51  52  53\n",
      "  54  55  56  57  58  59  60  61  62  63  64  65  66  67  68  69  70  71\n",
      "  72  73  74  75  76  77  78  79  80  81  82  83  84  85  86  87  88  89\n",
      "  90  91  92  93  94  95  96  97  98  99 100 101 102 103 104 105 106 107\n",
      " 108 109 110 111 112 113 114 115 116 117 118 119 120 121 122 123 124 125\n",
      " 126 127 128 129 130 131 132 133 134 135 136 137 138 139 140 141 142 143\n",
      " 144 145 146 147 148 149 150 151 152 153 154 155 156 157 158 159 160 161\n",
      " 162 163 164 165 166 167 168 169 170 171 172 173 174 175 176 177 178 179\n",
      " 180 181 182 183 184 185 186 187 188 189 190 191 192 193 194 195 196 197\n",
      " 198 199 200 201 202 203 204 205 206 207 208 209 210 211 212 213 214 215\n",
      " 216 217 218 219 220 221 222 223 224 225 226 227 228 229 230 231 232 233\n",
      " 234 235 236 237 238 239 240 241 242 243 244 245 246 247 248 249 250 251\n",
      " 252 253 254 255 256 257 258 259 260 261 262 263 264 265 266 267 268 269\n",
      " 270 271 272 273 274 275 276 277 278 279 280 281 282 283 284 285 286 287\n",
      " 288 289 290 291 292 293 294 295 296 297 298 299 300 301 302 303 304 305\n",
      " 306 307 308 309 310 311 312 313 314 315 316 317 318 319 320 321 322 323\n",
      " 324 325 326 327 328 329 330 331 332 333 334 335 336 337 338 339]\n",
      "Train: [   0    1    2 ... 1697 1698 1699] | test: [340 341 342 343 344 345 346 347 348 349 350 351 352 353 354 355 356 357\n",
      " 358 359 360 361 362 363 364 365 366 367 368 369 370 371 372 373 374 375\n",
      " 376 377 378 379 380 381 382 383 384 385 386 387 388 389 390 391 392 393\n",
      " 394 395 396 397 398 399 400 401 402 403 404 405 406 407 408 409 410 411\n",
      " 412 413 414 415 416 417 418 419 420 421 422 423 424 425 426 427 428 429\n",
      " 430 431 432 433 434 435 436 437 438 439 440 441 442 443 444 445 446 447\n",
      " 448 449 450 451 452 453 454 455 456 457 458 459 460 461 462 463 464 465\n",
      " 466 467 468 469 470 471 472 473 474 475 476 477 478 479 480 481 482 483\n",
      " 484 485 486 487 488 489 490 491 492 493 494 495 496 497 498 499 500 501\n",
      " 502 503 504 505 506 507 508 509 510 511 512 513 514 515 516 517 518 519\n",
      " 520 521 522 523 524 525 526 527 528 529 530 531 532 533 534 535 536 537\n",
      " 538 539 540 541 542 543 544 545 546 547 548 549 550 551 552 553 554 555\n",
      " 556 557 558 559 560 561 562 563 564 565 566 567 568 569 570 571 572 573\n",
      " 574 575 576 577 578 579 580 581 582 583 584 585 586 587 588 589 590 591\n",
      " 592 593 594 595 596 597 598 599 600 601 602 603 604 605 606 607 608 609\n",
      " 610 611 612 613 614 615 616 617 618 619 620 621 622 623 624 625 626 627\n",
      " 628 629 630 631 632 633 634 635 636 637 638 639 640 641 642 643 644 645\n",
      " 646 647 648 649 650 651 652 653 654 655 656 657 658 659 660 661 662 663\n",
      " 664 665 666 667 668 669 670 671 672 673 674 675 676 677 678 679]\n",
      "Train: [   0    1    2 ... 1697 1698 1699] | test: [ 680  681  682  683  684  685  686  687  688  689  690  691  692  693\n",
      "  694  695  696  697  698  699  700  701  702  703  704  705  706  707\n",
      "  708  709  710  711  712  713  714  715  716  717  718  719  720  721\n",
      "  722  723  724  725  726  727  728  729  730  731  732  733  734  735\n",
      "  736  737  738  739  740  741  742  743  744  745  746  747  748  749\n",
      "  750  751  752  753  754  755  756  757  758  759  760  761  762  763\n",
      "  764  765  766  767  768  769  770  771  772  773  774  775  776  777\n",
      "  778  779  780  781  782  783  784  785  786  787  788  789  790  791\n",
      "  792  793  794  795  796  797  798  799  800  801  802  803  804  805\n",
      "  806  807  808  809  810  811  812  813  814  815  816  817  818  819\n",
      "  820  821  822  823  824  825  826  827  828  829  830  831  832  833\n",
      "  834  835  836  837  838  839  840  841  842  843  844  845  846  847\n",
      "  848  849  850  851  852  853  854  855  856  857  858  859  860  861\n",
      "  862  863  864  865  866  867  868  869  870  871  872  873  874  875\n",
      "  876  877  878  879  880  881  882  883  884  885  886  887  888  889\n",
      "  890  891  892  893  894  895  896  897  898  899  900  901  902  903\n",
      "  904  905  906  907  908  909  910  911  912  913  914  915  916  917\n",
      "  918  919  920  921  922  923  924  925  926  927  928  929  930  931\n",
      "  932  933  934  935  936  937  938  939  940  941  942  943  944  945\n",
      "  946  947  948  949  950  951  952  953  954  955  956  957  958  959\n",
      "  960  961  962  963  964  965  966  967  968  969  970  971  972  973\n",
      "  974  975  976  977  978  979  980  981  982  983  984  985  986  987\n",
      "  988  989  990  991  992  993  994  995  996  997  998  999 1000 1001\n",
      " 1002 1003 1004 1005 1006 1007 1008 1009 1010 1011 1012 1013 1014 1015\n",
      " 1016 1017 1018 1019]\n",
      "Train: [   0    1    2 ... 1697 1698 1699] | test: [1020 1021 1022 1023 1024 1025 1026 1027 1028 1029 1030 1031 1032 1033\n",
      " 1034 1035 1036 1037 1038 1039 1040 1041 1042 1043 1044 1045 1046 1047\n",
      " 1048 1049 1050 1051 1052 1053 1054 1055 1056 1057 1058 1059 1060 1061\n",
      " 1062 1063 1064 1065 1066 1067 1068 1069 1070 1071 1072 1073 1074 1075\n",
      " 1076 1077 1078 1079 1080 1081 1082 1083 1084 1085 1086 1087 1088 1089\n",
      " 1090 1091 1092 1093 1094 1095 1096 1097 1098 1099 1100 1101 1102 1103\n",
      " 1104 1105 1106 1107 1108 1109 1110 1111 1112 1113 1114 1115 1116 1117\n",
      " 1118 1119 1120 1121 1122 1123 1124 1125 1126 1127 1128 1129 1130 1131\n",
      " 1132 1133 1134 1135 1136 1137 1138 1139 1140 1141 1142 1143 1144 1145\n",
      " 1146 1147 1148 1149 1150 1151 1152 1153 1154 1155 1156 1157 1158 1159\n",
      " 1160 1161 1162 1163 1164 1165 1166 1167 1168 1169 1170 1171 1172 1173\n",
      " 1174 1175 1176 1177 1178 1179 1180 1181 1182 1183 1184 1185 1186 1187\n",
      " 1188 1189 1190 1191 1192 1193 1194 1195 1196 1197 1198 1199 1200 1201\n",
      " 1202 1203 1204 1205 1206 1207 1208 1209 1210 1211 1212 1213 1214 1215\n",
      " 1216 1217 1218 1219 1220 1221 1222 1223 1224 1225 1226 1227 1228 1229\n",
      " 1230 1231 1232 1233 1234 1235 1236 1237 1238 1239 1240 1241 1242 1243\n",
      " 1244 1245 1246 1247 1248 1249 1250 1251 1252 1253 1254 1255 1256 1257\n",
      " 1258 1259 1260 1261 1262 1263 1264 1265 1266 1267 1268 1269 1270 1271\n",
      " 1272 1273 1274 1275 1276 1277 1278 1279 1280 1281 1282 1283 1284 1285\n",
      " 1286 1287 1288 1289 1290 1291 1292 1293 1294 1295 1296 1297 1298 1299\n",
      " 1300 1301 1302 1303 1304 1305 1306 1307 1308 1309 1310 1311 1312 1313\n",
      " 1314 1315 1316 1317 1318 1319 1320 1321 1322 1323 1324 1325 1326 1327\n",
      " 1328 1329 1330 1331 1332 1333 1334 1335 1336 1337 1338 1339 1340 1341\n",
      " 1342 1343 1344 1345 1346 1347 1348 1349 1350 1351 1352 1353 1354 1355\n",
      " 1356 1357 1358 1359]\n",
      "Train: [   0    1    2 ... 1357 1358 1359] | test: [1360 1361 1362 1363 1364 1365 1366 1367 1368 1369 1370 1371 1372 1373\n",
      " 1374 1375 1376 1377 1378 1379 1380 1381 1382 1383 1384 1385 1386 1387\n",
      " 1388 1389 1390 1391 1392 1393 1394 1395 1396 1397 1398 1399 1400 1401\n",
      " 1402 1403 1404 1405 1406 1407 1408 1409 1410 1411 1412 1413 1414 1415\n",
      " 1416 1417 1418 1419 1420 1421 1422 1423 1424 1425 1426 1427 1428 1429\n",
      " 1430 1431 1432 1433 1434 1435 1436 1437 1438 1439 1440 1441 1442 1443\n",
      " 1444 1445 1446 1447 1448 1449 1450 1451 1452 1453 1454 1455 1456 1457\n",
      " 1458 1459 1460 1461 1462 1463 1464 1465 1466 1467 1468 1469 1470 1471\n",
      " 1472 1473 1474 1475 1476 1477 1478 1479 1480 1481 1482 1483 1484 1485\n",
      " 1486 1487 1488 1489 1490 1491 1492 1493 1494 1495 1496 1497 1498 1499\n",
      " 1500 1501 1502 1503 1504 1505 1506 1507 1508 1509 1510 1511 1512 1513\n",
      " 1514 1515 1516 1517 1518 1519 1520 1521 1522 1523 1524 1525 1526 1527\n",
      " 1528 1529 1530 1531 1532 1533 1534 1535 1536 1537 1538 1539 1540 1541\n",
      " 1542 1543 1544 1545 1546 1547 1548 1549 1550 1551 1552 1553 1554 1555\n",
      " 1556 1557 1558 1559 1560 1561 1562 1563 1564 1565 1566 1567 1568 1569\n",
      " 1570 1571 1572 1573 1574 1575 1576 1577 1578 1579 1580 1581 1582 1583\n",
      " 1584 1585 1586 1587 1588 1589 1590 1591 1592 1593 1594 1595 1596 1597\n",
      " 1598 1599 1600 1601 1602 1603 1604 1605 1606 1607 1608 1609 1610 1611\n",
      " 1612 1613 1614 1615 1616 1617 1618 1619 1620 1621 1622 1623 1624 1625\n",
      " 1626 1627 1628 1629 1630 1631 1632 1633 1634 1635 1636 1637 1638 1639\n",
      " 1640 1641 1642 1643 1644 1645 1646 1647 1648 1649 1650 1651 1652 1653\n",
      " 1654 1655 1656 1657 1658 1659 1660 1661 1662 1663 1664 1665 1666 1667\n",
      " 1668 1669 1670 1671 1672 1673 1674 1675 1676 1677 1678 1679 1680 1681\n",
      " 1682 1683 1684 1685 1686 1687 1688 1689 1690 1691 1692 1693 1694 1695\n",
      " 1696 1697 1698 1699]\n"
     ]
    }
   ],
   "source": [
    "k_fold = KFold(n_splits=5)\n",
    "for train_indices, test_indices in k_fold.split(x):\n",
    "    print('Train: %s | test: %s' % (train_indices, test_indices))"
   ]
  },
  {
   "cell_type": "markdown",
   "id": "35e354fe",
   "metadata": {},
   "source": [
    "## Handling Imbalanced Data\n",
    "\n",
    "Here, trying to balance the data with under and over sampling methods. \n"
   ]
  },
  {
   "cell_type": "code",
   "execution_count": 16,
   "id": "427c16f9",
   "metadata": {},
   "outputs": [
    {
     "data": {
      "text/plain": [
       "Counter({0: 334, 1: 1026})"
      ]
     },
     "execution_count": 16,
     "metadata": {},
     "output_type": "execute_result"
    }
   ],
   "source": [
    "#class count\n",
    "Counter(y_train)"
   ]
  },
  {
   "cell_type": "markdown",
   "id": "ff681410",
   "metadata": {},
   "source": [
    "### 1. Under Sampling"
   ]
  },
  {
   "cell_type": "code",
   "execution_count": 17,
   "id": "43a64899",
   "metadata": {},
   "outputs": [
    {
     "name": "stdout",
     "output_type": "stream",
     "text": [
      "The number of classes before fit Counter({1: 1026, 0: 334})\n",
      "The number of classes after fit Counter({1: 371, 0: 334})\n"
     ]
    }
   ],
   "source": [
    "ns=NearMiss(sampling_strategy=0.90)\n",
    "x_train_ns,y_train_ns=ns.fit_resample(x_train,y_train)\n",
    "print(\"The number of classes before fit {}\".format(Counter(y_train)))\n",
    "print(\"The number of classes after fit {}\".format(Counter(y_train_ns)))"
   ]
  },
  {
   "cell_type": "markdown",
   "id": "41080d43",
   "metadata": {},
   "source": [
    "**Note:** This under sampling method reduce the points of the maximum labels, this is not good method because we are removing more data. So , we are using the balanced data."
   ]
  },
  {
   "cell_type": "markdown",
   "id": "8417d638",
   "metadata": {},
   "source": [
    "### 2. Over Sampling\n",
    "There are many approaches in Over sampling, since it is a binary classification problem, here using two aprroaches, as follows:\n",
    " 1. *RandomOverSampler* - Random oversampling just increases the size of the training data set through repetition of the original examples. It does not cause any increase in the variety of training examples.\n",
    " 2. *SMOTE* - Synthetic Minority Over-sampling Technique is not only increases the size of the training data set, it also increases the variety.\n",
    "Later, will discuss the performance of each model with these two balanced datas which we get by above two methods."
   ]
  },
  {
   "cell_type": "code",
   "execution_count": 18,
   "id": "980aba84",
   "metadata": {},
   "outputs": [
    {
     "name": "stdout",
     "output_type": "stream",
     "text": [
      "The number of classes before fit Counter({1: 1026, 0: 334})\n",
      "The number of classes after fit Counter({1: 1026, 0: 1015})\n"
     ]
    }
   ],
   "source": [
    "#RandomOverSampler Method\n",
    "rand=RandomOverSampler(sampling_strategy=0.99)\n",
    "x_train_rand,y_train_rand=rand.fit_resample(x_train,y_train)\n",
    "print(\"The number of classes before fit {}\".format(Counter(y_train)))\n",
    "print(\"The number of classes after fit {}\".format(Counter(y_train_rand)))"
   ]
  },
  {
   "cell_type": "code",
   "execution_count": 19,
   "id": "3c5c7cbc",
   "metadata": {},
   "outputs": [
    {
     "name": "stdout",
     "output_type": "stream",
     "text": [
      "The number of classes before fit Counter({1: 1026, 0: 334})\n",
      "The number of classes after fit Counter({0: 1026, 1: 1026})\n"
     ]
    }
   ],
   "source": [
    "#SMOTE Method\n",
    "smote=SMOTE(sampling_strategy='minority')\n",
    "x_train_smote,y_train_smote=smote.fit_resample(x_train,y_train)\n",
    "print(\"The number of classes before fit {}\".format(Counter(y_train)))\n",
    "print(\"The number of classes after fit {}\".format(Counter(y_train_smote)))"
   ]
  },
  {
   "cell_type": "markdown",
   "id": "ec0456e9",
   "metadata": {},
   "source": [
    "From the above two over sampler methods, both methods performed well. So further we proceed with smote method balanced data since it sampled well while comparing with random sampler method. "
   ]
  },
  {
   "cell_type": "markdown",
   "id": "25db2f9e",
   "metadata": {},
   "source": [
    "# Investigating performance of ML Techniques"
   ]
  },
  {
   "cell_type": "markdown",
   "id": "2d401f73",
   "metadata": {},
   "source": [
    "*Here we are investigating the performance of two Machine Learning Procedures such are:* \n",
    "* Linear Regression with Ridge and Lasso reularisation\n",
    "* Logistic regression with Ridge and Lasso reularisation"
   ]
  },
  {
   "cell_type": "markdown",
   "id": "a6f86f0c",
   "metadata": {},
   "source": [
    "# Linear Regression"
   ]
  },
  {
   "cell_type": "markdown",
   "id": "316e6219",
   "metadata": {},
   "source": [
    "In this part, to compare each  performance of Linear Regression with Lasso and Ridge,  I have evaluated each performance separately as with balanced data, with imbalanced data and done hyperparameter tuning to get best parameters for balanced and imbalanced data. Finally compared the evaluated performance of Linear Regression with Ridge and Lasso, with balanced and imbalanced Data. The outline of the process is given below:"
   ]
  },
  {
   "cell_type": "markdown",
   "id": "712b0a9d",
   "metadata": {},
   "source": [
    "Firstly to select the best parameters, I have done the hyperparameter tuning and with that best parameters , I have evaluated the effective approach. Finally, the outcome of the results showed that linear regression with lasso and ridge are getting similar predictions. "
   ]
  },
  {
   "cell_type": "markdown",
   "id": "def86e30",
   "metadata": {},
   "source": [
    "**Outline:**\n",
    "1. **Linear Regression**\n",
    "* With Imbalanced Data\n",
    "   - Linear Regression without parameters\n",
    "   - GridSearchCV to find best parametrs\n",
    "   - Linear Regression with best Parameters\n",
    "* With Balanced Data\n",
    "   - Linear Regression without parameters\n",
    "   - GridSearchCV to find best parameters\n",
    "   - Linear Regression with best Parameters\n",
    "2. **Linear Regression with Ridge**\n",
    "* With Imbalanced Data\n",
    "   - Ridge without parameters\n",
    "   - GridSearchCV to find best parametrs\n",
    "   - Ridge with best Parameters\n",
    "* with Balanced Data\n",
    "   - Ridge without parameters\n",
    "   - GridSearchCV to find best parameters\n",
    "   - Ridge with best Parameters\n",
    "3. **Linear Regression with Lasso**\n",
    "* With Imbalanced Data\n",
    "   - Lasso without parameters\n",
    "   - GridSearchCV to find best parametrs\n",
    "   - Lasso with best Parameters\n",
    "* with Balanced Data\n",
    "   - Lasso without parameters\n",
    "   - GridSearchCV to find best parameters\n",
    "   - Lasso with best Parameters\n",
    "4. **Comparision Table of the evaluated Performance**\n",
    "\n"
   ]
  },
  {
   "cell_type": "markdown",
   "id": "1f4fb951",
   "metadata": {},
   "source": [
    "### With Imbalanced Data"
   ]
  },
  {
   "cell_type": "code",
   "execution_count": 20,
   "id": "ae900fc1",
   "metadata": {},
   "outputs": [
    {
     "name": "stdout",
     "output_type": "stream",
     "text": [
      "Mean Squared Error: 0.2235294117647059\n",
      "r2 score_LRM : -7.674051695199733\n",
      "------------------------------------------------------\n",
      "              precision    recall  f1-score   support\n",
      "\n",
      "           0       0.67      0.08      0.14        79\n",
      "           1       0.78      0.99      0.87       261\n",
      "\n",
      "    accuracy                           0.78       340\n",
      "   macro avg       0.72      0.53      0.50       340\n",
      "weighted avg       0.75      0.78      0.70       340\n",
      "\n",
      "[[  6  73]\n",
      " [  3 258]]\n"
     ]
    }
   ],
   "source": [
    "lin_reg= LinearRegression()\n",
    "lin_reg.fit(x_train, y_train)\n",
    "lin_pred = lin_reg.predict(x_test)\n",
    "lin_pred[lin_pred>=0.5]=1\n",
    "lin_pred[lin_pred<=0.5]=0\n",
    "\n",
    "\n",
    "print('Mean Squared Error:', metrics.mean_squared_error(y_test, lin_pred))\n",
    "r2_LRM = r2_score(lin_pred, y_test)\n",
    "print(\"r2 score_LRM :\", r2_LRM)\n",
    "print(\"------------------------------------------------------\")\n",
    "print(classification_report(y_test, lin_pred))\n",
    "print(confusion_matrix(y_test, lin_pred))\n"
   ]
  },
  {
   "cell_type": "markdown",
   "id": "1e47346a",
   "metadata": {},
   "source": [
    "GridSearchCV"
   ]
  },
  {
   "cell_type": "code",
   "execution_count": 21,
   "id": "9a6a1367",
   "metadata": {},
   "outputs": [
    {
     "data": {
      "text/plain": [
       "{'copy_X': True,\n",
       " 'fit_intercept': True,\n",
       " 'n_jobs': None,\n",
       " 'normalize': 'deprecated',\n",
       " 'positive': False}"
      ]
     },
     "execution_count": 21,
     "metadata": {},
     "output_type": "execute_result"
    }
   ],
   "source": [
    "lin_reg.get_params()"
   ]
  },
  {
   "cell_type": "code",
   "execution_count": 22,
   "id": "d9c29e67",
   "metadata": {},
   "outputs": [
    {
     "name": "stdout",
     "output_type": "stream",
     "text": [
      "Fitting 5 folds for each of 168 candidates, totalling 840 fits\n",
      "{'copy_X': 'True', 'fit_intercept': 'True', 'n_jobs': None, 'normalize': 'deprecated', 'positive': 'False'}\n"
     ]
    }
   ],
   "source": [
    "#GridSearchCV\n",
    "params={\n",
    "    'copy_X' : ['True','False'],\n",
    "    'fit_intercept' : ['True','False'],\n",
    "    'n_jobs' : [None, 'sqrt', 'log2', 0.2, 0.4, 0.6, 0.8],\n",
    "    'positive' : ['False', 'True'],\n",
    "    'normalize' :['deprecated','True','False']}\n",
    "\n",
    "clf=GridSearchCV(estimator= LinearRegression(),param_grid=params,cv=5,n_jobs=5,verbose=1)\n",
    "\n",
    "clf.fit(x_train,y_train)\n",
    "print(clf.best_params_)"
   ]
  },
  {
   "cell_type": "markdown",
   "id": "1efd5aec",
   "metadata": {},
   "source": [
    "Here, the obtained best Parameters of Linear regression are the same as their default parameters.And also after GridSearchCV, we obtained the same score,so proceeding with the obtained Linear Regression score."
   ]
  },
  {
   "cell_type": "markdown",
   "id": "d8653b5e",
   "metadata": {},
   "source": [
    "### With Balanced Data"
   ]
  },
  {
   "cell_type": "code",
   "execution_count": 23,
   "id": "21b5c9d9",
   "metadata": {},
   "outputs": [
    {
     "name": "stdout",
     "output_type": "stream",
     "text": [
      "Mean Squared Error: 0.2235294117647059\n",
      "r2 score_LRM_smote : -7.674051695199733\n",
      "------------------------------------------------------\n",
      "              precision    recall  f1-score   support\n",
      "\n",
      "           0       0.67      0.08      0.14        79\n",
      "           1       0.78      0.99      0.87       261\n",
      "\n",
      "    accuracy                           0.78       340\n",
      "   macro avg       0.72      0.53      0.50       340\n",
      "weighted avg       0.75      0.78      0.70       340\n",
      "\n",
      "[[  6  73]\n",
      " [  3 258]]\n"
     ]
    }
   ],
   "source": [
    "# SMOTE\n",
    "lin_reg_smote= LinearRegression()\n",
    "lin_reg_smote.fit(x_train_smote, y_train_smote)\n",
    "lin_pred_smote = lin_reg.predict(x_test)\n",
    "lin_pred_smote[lin_pred>=0.5]=1\n",
    "lin_pred_smote[lin_pred<=0.5]=0\n",
    "\n",
    "print('Mean Squared Error:', metrics.mean_squared_error(y_test, lin_pred_smote))\n",
    "r2_LRM_smote = r2_score(lin_pred_smote, y_test)\n",
    "print(\"r2 score_LRM_smote :\", r2_LRM_smote)\n",
    "print(\"------------------------------------------------------\")\n",
    "print(classification_report(y_test, lin_pred_smote))\n",
    "print(confusion_matrix(y_test, lin_pred_smote))"
   ]
  },
  {
   "cell_type": "code",
   "execution_count": 24,
   "id": "09147ac0",
   "metadata": {},
   "outputs": [
    {
     "name": "stdout",
     "output_type": "stream",
     "text": [
      "Fitting 5 folds for each of 168 candidates, totalling 840 fits\n",
      "{'copy_X': 'True', 'fit_intercept': 'True', 'n_jobs': None, 'normalize': 'deprecated', 'positive': 'False'}\n"
     ]
    }
   ],
   "source": [
    "#GridSearchCV\n",
    "params={\n",
    "    'copy_X' : ['True','False'],\n",
    "    'fit_intercept' : ['True','False'],\n",
    "    'n_jobs' : [None, 'sqrt', 'log2', 0.2, 0.4, 0.6, 0.8],\n",
    "    'positive' : ['False', 'True'],\n",
    "    'normalize' :['deprecated','True','False']}\n",
    "\n",
    "clf=GridSearchCV(estimator= LinearRegression(),param_grid=params,cv=5,n_jobs=5,verbose=1)\n",
    "\n",
    "clf.fit(x_train_smote,y_train_smote)\n",
    "print(clf.best_params_)"
   ]
  },
  {
   "cell_type": "markdown",
   "id": "bdc014eb",
   "metadata": {},
   "source": [
    "Here, the obtained best Parameters of Linear regression are the same as their default parameters.And also after GridSearchCV, we obtained the same score,so proceeding with the obtained Linear Regression score."
   ]
  },
  {
   "cell_type": "code",
   "execution_count": 25,
   "id": "dd45026f",
   "metadata": {},
   "outputs": [
    {
     "name": "stdout",
     "output_type": "stream",
     "text": [
      "Intercept:  0.7906341875652682\n",
      "Coefficients:  [ 7.31308457e-03 -1.12831981e-01 -3.95655574e-01  3.80722462e-01\n",
      " -2.07736586e-02  4.31025166e-02 -3.52138598e-03  1.34153638e-03\n",
      "  2.00462447e-05  8.12993108e-03  1.46196708e-03 -4.97871985e-02\n",
      "  1.18011133e-03 -1.05902733e-01 -9.78983309e-04  1.51755162e-03\n",
      "  8.06168428e-03 -5.42692850e-03  1.60327705e-03 -2.54328805e-04\n",
      " -2.77748238e-02  1.31843091e-01  3.39202580e-03 -2.41221989e-04\n",
      "  1.70549726e-02  2.44576904e-03]\n"
     ]
    }
   ],
   "source": [
    "from sklearn import linear_model\n",
    "# Obtain the parameters using sklearn\n",
    "regr = linear_model.LinearRegression()\n",
    "regr.fit(x, y)\n",
    "print('Intercept: ', regr.intercept_)\n",
    "print('Coefficients: ', regr.coef_)"
   ]
  },
  {
   "cell_type": "code",
   "execution_count": 26,
   "id": "23c44b36",
   "metadata": {},
   "outputs": [
    {
     "name": "stdout",
     "output_type": "stream",
     "text": [
      "╒═════════════════════════════════════════╤════════════╤═════════════╤══════════╤════════════════════╕\n",
      "│ Linear Regression                       │   Accuracy │   Precision │   Recall │ confusion matrix   │\n",
      "╞═════════════════════════════════════════╪════════════╪═════════════╪══════════╪════════════════════╡\n",
      "│ Linear Regression without Balanced Data │   0.776471 │    0.779456 │ 0.988506 │ [[  6  73]         │\n",
      "│                                         │            │             │          │  [  3 258]]        │\n",
      "├─────────────────────────────────────────┼────────────┼─────────────┼──────────┼────────────────────┤\n",
      "│ Linear Regression with Balanced Data    │   0.776471 │    0.779456 │ 0.988506 │ [[  6  73]         │\n",
      "│                                         │            │             │          │  [  3 258]]        │\n",
      "╘═════════════════════════════════════════╧════════════╧═════════════╧══════════╧════════════════════╛\n"
     ]
    }
   ],
   "source": [
    "# compute accuracy score\n",
    "acc_lr = accuracy_score(y_test, lin_pred)\n",
    "acc_lr_smote = accuracy_score(y_test, lin_pred_smote)\n",
    "\n",
    "\n",
    "# compute confusion matrix\n",
    "cnf_lr = confusion_matrix(y_test, lin_pred)\n",
    "cnf_lr_smote = confusion_matrix(y_test, lin_pred_smote)\n",
    "\n",
    "\n",
    "# compute recall \n",
    "recall_lr = recall_score(y_test, lin_pred)\n",
    "recall_lr_smote = recall_score(y_test, lin_pred_smote)\n",
    "\n",
    "\n",
    "# compute precision\n",
    "precision_lr = precision_score(y_test, lin_pred)\n",
    "precision_lr_smote = precision_score(y_test, lin_pred_smote)\n",
    "\n",
    "\n",
    "\n",
    "\n",
    "# table\n",
    "from tabulate import tabulate\n",
    "table_data = [['Linear Regression','Accuracy', 'Precision', 'Recall', 'confusion matrix' ],\n",
    "             ['Linear Regression without Balanced Data' , acc_lr, precision_lr, recall_lr, cnf_lr ],\n",
    "             ['Linear Regression with Balanced Data', acc_lr_smote, precision_lr_smote, recall_lr_smote, cnf_lr_smote],\n",
    "             ]\n",
    "print(tabulate(table_data, headers= \"firstrow\", tablefmt=\"fancy_grid\" ))"
   ]
  },
  {
   "cell_type": "markdown",
   "id": "c932c220",
   "metadata": {},
   "source": [
    "## Ridge"
   ]
  },
  {
   "cell_type": "markdown",
   "id": "0d01f6e8",
   "metadata": {},
   "source": [
    "**Outline:**\n",
    " * With Imbalanced Data\n",
    "- Ridge without parameters\n",
    "- GridSearchCV to find best parametrs\n",
    "- Ridge with best Parameters\n",
    " * with Balanced Data\n",
    "- Ridge without parameters\n",
    "- GridSearchCV to find best parameters\n",
    "- Ridge with best Parameters"
   ]
  },
  {
   "cell_type": "markdown",
   "id": "67c668b5",
   "metadata": {},
   "source": [
    "### With Imbalanced Data"
   ]
  },
  {
   "cell_type": "code",
   "execution_count": 27,
   "id": "8e5c6ddf",
   "metadata": {},
   "outputs": [
    {
     "name": "stdout",
     "output_type": "stream",
     "text": [
      "Mean Squared Error: 0.2235294117647059\n",
      "r2 score_ridge_bf : -7.674051695199733\n",
      "------------------------------------------------------\n",
      "              precision    recall  f1-score   support\n",
      "\n",
      "           0       0.67      0.08      0.14        79\n",
      "           1       0.78      0.99      0.87       261\n",
      "\n",
      "    accuracy                           0.78       340\n",
      "   macro avg       0.72      0.53      0.50       340\n",
      "weighted avg       0.75      0.78      0.70       340\n",
      "\n",
      "[[  6  73]\n",
      " [  3 258]]\n"
     ]
    }
   ],
   "source": [
    "ridge=linear_model.Ridge()\n",
    "ridge.fit(x_train, y_train)\n",
    "ridge_pred_bf = ridge.predict(x_test)\n",
    "ridge_pred_bf[lin_pred>=0.5]=1\n",
    "ridge_pred_bf[lin_pred<=0.5]=0\n",
    " \n",
    "# Calculating its performance\n",
    "print('Mean Squared Error:', metrics.mean_squared_error(y_test, ridge_pred_bf))\n",
    "r2_ridge_bf = r2_score(ridge_pred_bf, y_test)\n",
    "print(\"r2 score_ridge_bf :\", r2_ridge_bf)\n",
    "print(\"------------------------------------------------------\")\n",
    "print(classification_report(y_test, ridge_pred_bf))\n",
    "print(confusion_matrix(y_test, ridge_pred_bf))"
   ]
  },
  {
   "cell_type": "code",
   "execution_count": 28,
   "id": "42c0f642",
   "metadata": {},
   "outputs": [
    {
     "data": {
      "text/plain": [
       "{'alpha': 1.0,\n",
       " 'copy_X': True,\n",
       " 'fit_intercept': True,\n",
       " 'max_iter': None,\n",
       " 'normalize': 'deprecated',\n",
       " 'positive': False,\n",
       " 'random_state': None,\n",
       " 'solver': 'auto',\n",
       " 'tol': 0.001}"
      ]
     },
     "execution_count": 28,
     "metadata": {},
     "output_type": "execute_result"
    }
   ],
   "source": [
    "ridge.get_params()"
   ]
  },
  {
   "cell_type": "code",
   "execution_count": 29,
   "id": "9308bd52",
   "metadata": {},
   "outputs": [
    {
     "name": "stdout",
     "output_type": "stream",
     "text": [
      "Fitting 5 folds for each of 28800 candidates, totalling 144000 fits\n",
      "{'alpha': 100, 'fit_intercept': 'True', 'max_iter': 100, 'normalize': 'deprecated', 'positive': 'False', 'random_state': 25, 'tol': 0.01}\n",
      "-0.18594731602167036\n"
     ]
    }
   ],
   "source": [
    "#GridSearchCV\n",
    "params={\n",
    "    'alpha':[1e-15,1e-10,1e-8,1e-3,1e-2,1,5,10,20,30,35,40,45,50,55,100],\n",
    "    'fit_intercept' : ['True','False'],\n",
    "    'max_iter' : [100, 500, 1000],\n",
    "    'normalize' :  ['deprecated','True','False'],\n",
    "    'positive' : ['False', 'True'],\n",
    "    'random_state' : [25, 50,75,100, None],\n",
    "    'tol' : [1e-5, 1e-4, 3e-4, 1e-3, 3e-3, 1e-3, 5e-3, 1e-2, 5e-2, 1e-1],\n",
    "    }\n",
    "\n",
    "ridge_regressor=GridSearchCV(estimator= Ridge(),param_grid=params,scoring='neg_mean_squared_error',cv=5,n_jobs=5,verbose=1)\n",
    "\n",
    "ridge_regressor.fit(x_train,y_train)\n",
    "print(ridge_regressor.best_params_)\n",
    "print(ridge_regressor.best_score_)"
   ]
  },
  {
   "cell_type": "markdown",
   "id": "82ca7a6a",
   "metadata": {},
   "source": [
    "The above output are the best parameters for imbalanced data, so now I have evaluated Ridge with the best parameters with imbalanced data."
   ]
  },
  {
   "cell_type": "code",
   "execution_count": 30,
   "id": "26446892",
   "metadata": {},
   "outputs": [
    {
     "name": "stdout",
     "output_type": "stream",
     "text": [
      "Mean Squared Error: 0.22647058823529412\n",
      "r2 score_ridge_bf : -18.479166666666664\n",
      "------------------------------------------------------\n",
      "              precision    recall  f1-score   support\n",
      "\n",
      "           0       0.75      0.04      0.07        79\n",
      "           1       0.77      1.00      0.87       261\n",
      "\n",
      "    accuracy                           0.77       340\n",
      "   macro avg       0.76      0.52      0.47       340\n",
      "weighted avg       0.77      0.77      0.69       340\n",
      "\n",
      "[[  3  76]\n",
      " [  1 260]]\n"
     ]
    }
   ],
   "source": [
    "ridge_af=linear_model.Ridge(alpha=100, max_iter=100, random_state=25, tol=0.05)\n",
    "ridge_af.fit(x_train, y_train)\n",
    "ridge_pred_af = ridge_af.predict(x_test)\n",
    "ridge_pred_af[ridge_pred_af>=0.5]=1\n",
    "ridge_pred_af[ridge_pred_af<=0.5]=0\n",
    " \n",
    "# Calculating its performance\n",
    "print('Mean Squared Error:', metrics.mean_squared_error(y_test, ridge_pred_af))\n",
    "r2_ridge_af = r2_score(ridge_pred_af, y_test)\n",
    "print(\"r2 score_ridge_bf :\", r2_ridge_af)\n",
    "print(\"------------------------------------------------------\")\n",
    "print(classification_report(y_test, ridge_pred_af))\n",
    "print(confusion_matrix(y_test, ridge_pred_af))"
   ]
  },
  {
   "cell_type": "markdown",
   "id": "c1afc88f",
   "metadata": {},
   "source": [
    "### With Balanced Data"
   ]
  },
  {
   "cell_type": "code",
   "execution_count": 31,
   "id": "ae562938",
   "metadata": {},
   "outputs": [
    {
     "name": "stdout",
     "output_type": "stream",
     "text": [
      "Mean Squared Error: 0.2235294117647059\n",
      "r2 score_ridge_bf : -7.674051695199733\n",
      "------------------------------------------------------\n",
      "              precision    recall  f1-score   support\n",
      "\n",
      "           0       0.67      0.08      0.14        79\n",
      "           1       0.78      0.99      0.87       261\n",
      "\n",
      "    accuracy                           0.78       340\n",
      "   macro avg       0.72      0.53      0.50       340\n",
      "weighted avg       0.75      0.78      0.70       340\n",
      "\n",
      "[[  6  73]\n",
      " [  3 258]]\n"
     ]
    }
   ],
   "source": [
    "ridge_smote_bf=linear_model.Ridge()\n",
    "ridge_smote_bf.fit(x_train_smote, y_train_smote)\n",
    "ridge_pred_bf_smote = ridge_smote_bf.predict(x_test)\n",
    "ridge_pred_bf_smote[lin_pred>=0.5]=1\n",
    "ridge_pred_bf_smote[lin_pred<=0.5]=0\n",
    " \n",
    "# Calculating its performance\n",
    "print('Mean Squared Error:', metrics.mean_squared_error(y_test, ridge_pred_bf_smote))\n",
    "r2_ridge_bf_smote = r2_score(ridge_pred_bf_smote, y_test)\n",
    "print(\"r2 score_ridge_bf :\", r2_ridge_bf_smote)\n",
    "print(\"------------------------------------------------------\")\n",
    "print(classification_report(y_test, ridge_pred_bf_smote))\n",
    "print(confusion_matrix(y_test, ridge_pred_bf_smote))"
   ]
  },
  {
   "cell_type": "code",
   "execution_count": 32,
   "id": "66426a2a",
   "metadata": {},
   "outputs": [
    {
     "name": "stdout",
     "output_type": "stream",
     "text": [
      "Fitting 5 folds for each of 28800 candidates, totalling 144000 fits\n",
      "{'alpha': 100, 'fit_intercept': 'True', 'max_iter': 100, 'normalize': 'deprecated', 'positive': 'False', 'random_state': 25, 'tol': 0.005}\n",
      "-0.3079864978081861\n"
     ]
    }
   ],
   "source": [
    "#GridSearchCV\n",
    "params={\n",
    "    'alpha':[1e-15,1e-10,1e-8,1e-3,1e-2,1,5,10,20,30,35,40,45,50,55,100],\n",
    "    'fit_intercept' : ['True','False'],\n",
    "    'max_iter' : [100, 500, 1000],\n",
    "    'normalize' :  ['deprecated','True','False'],\n",
    "    'positive' : ['False', 'True'],\n",
    "    'random_state' : [25, 50,75,100, None],\n",
    "    'tol' : [1e-5, 1e-4, 3e-4, 1e-3, 3e-3, 1e-3, 5e-3, 1e-2, 5e-2, 1e-1],\n",
    "    }\n",
    "\n",
    "ridge_regressor_smote=GridSearchCV(estimator= Ridge(),param_grid=params,scoring='neg_mean_squared_error',cv=5,n_jobs=5,verbose=1)\n",
    "\n",
    "ridge_regressor_smote.fit(x_train_smote,y_train_smote)\n",
    "print(ridge_regressor_smote.best_params_)\n",
    "print(ridge_regressor_smote.best_score_)"
   ]
  },
  {
   "cell_type": "markdown",
   "id": "1ceda705",
   "metadata": {},
   "source": [
    "The above output are the best parameters for balanced data, so now I have evaluated Ridge with the best parameters with balanced data."
   ]
  },
  {
   "cell_type": "code",
   "execution_count": 33,
   "id": "f2f91b4e",
   "metadata": {},
   "outputs": [
    {
     "name": "stdout",
     "output_type": "stream",
     "text": [
      "Mean Squared Error: 0.2235294117647059\n",
      "r2 score_ridge_bf : -7.674051695199733\n",
      "------------------------------------------------------\n",
      "              precision    recall  f1-score   support\n",
      "\n",
      "           0       0.67      0.08      0.14        79\n",
      "           1       0.78      0.99      0.87       261\n",
      "\n",
      "    accuracy                           0.78       340\n",
      "   macro avg       0.72      0.53      0.50       340\n",
      "weighted avg       0.75      0.78      0.70       340\n",
      "\n",
      "[[  6  73]\n",
      " [  3 258]]\n"
     ]
    }
   ],
   "source": [
    "ridge_smote_af=linear_model.Ridge(alpha=100, max_iter=100, random_state=25, tol=0.01)\n",
    "ridge_smote_af.fit(x_train_smote, y_train_smote)\n",
    "ridge_pred_af_smote = ridge_smote_af.predict(x_test)\n",
    "ridge_pred_af_smote[lin_pred>=0.5]=1\n",
    "ridge_pred_af_smote[lin_pred<=0.5]=0\n",
    " \n",
    "# Calculating its performance\n",
    "print('Mean Squared Error:', metrics.mean_squared_error(y_test, ridge_pred_bf_smote))\n",
    "r2_ridge_af_smote = r2_score(ridge_pred_af_smote, y_test)\n",
    "print(\"r2 score_ridge_bf :\", r2_ridge_af_smote)\n",
    "print(\"------------------------------------------------------\")\n",
    "print(classification_report(y_test, ridge_pred_af_smote))\n",
    "print(confusion_matrix(y_test, ridge_pred_af_smote))"
   ]
  },
  {
   "cell_type": "markdown",
   "id": "08e07dd0",
   "metadata": {},
   "source": [
    "#### Now, comparing the Ridge performance with Balanced and Imbalanced Data."
   ]
  },
  {
   "cell_type": "code",
   "execution_count": 34,
   "id": "8c762f36",
   "metadata": {},
   "outputs": [
    {
     "name": "stdout",
     "output_type": "stream",
     "text": [
      "╒═════════════════════════════╤════════════╤═════════════╤══════════╤════════════════════╕\n",
      "│ Linear Regression           │   Accuracy │   Precision │   Recall │ confusion matrix   │\n",
      "╞═════════════════════════════╪════════════╪═════════════╪══════════╪════════════════════╡\n",
      "│ Ridge without Balanced Data │   0.773529 │    0.77381  │ 0.996169 │ [[  3  76]         │\n",
      "│                             │            │             │          │  [  1 260]]        │\n",
      "├─────────────────────────────┼────────────┼─────────────┼──────────┼────────────────────┤\n",
      "│ Ridge with Balanced Data    │   0.776471 │    0.779456 │ 0.988506 │ [[  6  73]         │\n",
      "│                             │            │             │          │  [  3 258]]        │\n",
      "╘═════════════════════════════╧════════════╧═════════════╧══════════╧════════════════════╛\n"
     ]
    }
   ],
   "source": [
    "# compute accuracy score\n",
    "acc_lr_ridge = accuracy_score(y_test, ridge_pred_af)\n",
    "acc_lr_ridge_smote = accuracy_score(y_test, ridge_pred_af_smote)\n",
    "\n",
    "\n",
    "# compute confusion matrix\n",
    "cnf_lr_ridge = confusion_matrix(y_test, ridge_pred_af)\n",
    "cnf_lr_ridge_smote = confusion_matrix(y_test, ridge_pred_af_smote)\n",
    "\n",
    "\n",
    "# compute recall \n",
    "recall_lr_ridge = recall_score(y_test, ridge_pred_af)\n",
    "recall_lr_ridge_smote = recall_score(y_test, ridge_pred_af_smote)\n",
    "\n",
    "\n",
    "# compute precision\n",
    "precision_lr_ridge = precision_score(y_test, ridge_pred_af)\n",
    "precision_lr_ridge_smote = precision_score(y_test, ridge_pred_af_smote)\n",
    "\n",
    "\n",
    "\n",
    "\n",
    "# table\n",
    "from tabulate import tabulate\n",
    "table_data = [['Linear Regression','Accuracy', 'Precision', 'Recall', 'confusion matrix' ],\n",
    "             ['Ridge without Balanced Data' , acc_lr_ridge, precision_lr_ridge, recall_lr_ridge, cnf_lr_ridge ],\n",
    "             ['Ridge with Balanced Data', acc_lr_ridge_smote, precision_lr_ridge_smote, recall_lr_ridge_smote, cnf_lr_ridge_smote],\n",
    "             ]\n",
    "print(tabulate(table_data, headers= \"firstrow\", tablefmt=\"fancy_grid\" ))"
   ]
  },
  {
   "cell_type": "markdown",
   "id": "dc8674db",
   "metadata": {},
   "source": [
    "## Lasso Regression"
   ]
  },
  {
   "cell_type": "markdown",
   "id": "cea9d9f9",
   "metadata": {},
   "source": [
    "**Outline:**\n",
    " * With Imbalanced Data\n",
    "- Lasso without parameters\n",
    "- GridSearchCV to find best parametrs\n",
    "- Lasso with best Parameters\n",
    " * with Balanced Data\n",
    "- Lasso without parameters\n",
    "- GridSearchCV to find best parameters\n",
    "- Lasso with best Parameters"
   ]
  },
  {
   "cell_type": "markdown",
   "id": "00757075",
   "metadata": {},
   "source": [
    "## With Imbalanced data"
   ]
  },
  {
   "cell_type": "code",
   "execution_count": 35,
   "id": "690ab13e",
   "metadata": {},
   "outputs": [
    {
     "name": "stdout",
     "output_type": "stream",
     "text": [
      "Mean Squared Error: 0.2323529411764706\n",
      "r2 score_ridge_bf : 0.0\n",
      "------------------------------------------------------\n",
      "              precision    recall  f1-score   support\n",
      "\n",
      "           0       0.00      0.00      0.00        79\n",
      "           1       0.77      1.00      0.87       261\n",
      "\n",
      "    accuracy                           0.77       340\n",
      "   macro avg       0.38      0.50      0.43       340\n",
      "weighted avg       0.59      0.77      0.67       340\n",
      "\n",
      "[[  0  79]\n",
      " [  0 261]]\n"
     ]
    }
   ],
   "source": [
    "lasso_bf=linear_model.Lasso()\n",
    "lasso_bf.fit(x_train, y_train)\n",
    "lasso_pred_bf = lasso_bf.predict(x_test)\n",
    "lasso_pred_bf[lasso_pred_bf>=0.5]=1\n",
    "lasso_pred_bf[lasso_pred_bf<=0.5]=0\n",
    " \n",
    "# Calculating its performance\n",
    "print('Mean Squared Error:', metrics.mean_squared_error(y_test, lasso_pred_bf))\n",
    "r2_lasso_bf = r2_score(lasso_pred_bf, y_test)\n",
    "print(\"r2 score_ridge_bf :\", r2_lasso_bf)\n",
    "print(\"------------------------------------------------------\")\n",
    "print(classification_report(y_test, lasso_pred_bf))\n",
    "print(confusion_matrix(y_test, lasso_pred_bf))\n"
   ]
  },
  {
   "cell_type": "code",
   "execution_count": 36,
   "id": "771dedda",
   "metadata": {},
   "outputs": [
    {
     "data": {
      "text/plain": [
       "{'alpha': 1.0,\n",
       " 'copy_X': True,\n",
       " 'fit_intercept': True,\n",
       " 'max_iter': 1000,\n",
       " 'normalize': 'deprecated',\n",
       " 'positive': False,\n",
       " 'precompute': False,\n",
       " 'random_state': None,\n",
       " 'selection': 'cyclic',\n",
       " 'tol': 0.0001,\n",
       " 'warm_start': False}"
      ]
     },
     "execution_count": 36,
     "metadata": {},
     "output_type": "execute_result"
    }
   ],
   "source": [
    "lasso_bf.get_params()"
   ]
  },
  {
   "cell_type": "code",
   "execution_count": 37,
   "id": "fcf228b8",
   "metadata": {},
   "outputs": [
    {
     "name": "stdout",
     "output_type": "stream",
     "text": [
      "Fitting 5 folds for each of 76800 candidates, totalling 384000 fits\n",
      "{'alpha': 1, 'fit_intercept': 'True', 'max_iter': 100, 'normalize': 'deprecated', 'positive': 'False', 'random_state': 25, 'selection': 'cyclic', 'tol': 1e-05, 'warm_start': 'True'}\n",
      "-0.1855343722967128\n"
     ]
    }
   ],
   "source": [
    "#GridSearchCV\n",
    "params={\n",
    "    'alpha':[1e-15,1e-10,1e-8,1e-3,1e-2,1,5,10,20,30,35,40,45,50,55,100],\n",
    "    'fit_intercept' : ['True','False'],\n",
    "    'max_iter' : [100, 500],\n",
    "    'normalize' :  ['deprecated','True','False'],\n",
    "    'positive' : ['False', 'True'],\n",
    "    'random_state' : [25, 50,75,100, None],\n",
    "    'selection' :['cyclic', 'random'],\n",
    "    'tol' : [1e-5, 1e-4, 3e-4, 1e-3, 3e-3, 1e-3, 5e-3, 1e-2, 5e-2, 1e-1],\n",
    "     'warm_start' : ['True', 'False'],\n",
    "    }\n",
    "\n",
    "clf_lasso=GridSearchCV(estimator= Lasso(),param_grid=params,scoring='neg_mean_squared_error',cv=5,n_jobs=5,verbose=1)\n",
    "\n",
    "clf_lasso.fit(x_train,y_train)\n",
    "print(clf_lasso.best_params_)\n",
    "print(clf_lasso.best_score_)"
   ]
  },
  {
   "cell_type": "markdown",
   "id": "897b0b64",
   "metadata": {},
   "source": [
    "The above output are the best parameters for imbalanced data, so now I have evaluated Lasso with the best parameters."
   ]
  },
  {
   "cell_type": "code",
   "execution_count": 38,
   "id": "9a402807",
   "metadata": {},
   "outputs": [
    {
     "name": "stdout",
     "output_type": "stream",
     "text": [
      "Mean Squared Error: 0.2323529411764706\n",
      "r2 score_ridge_af : 0.0\n",
      "------------------------------------------------------\n",
      "              precision    recall  f1-score   support\n",
      "\n",
      "           0       0.00      0.00      0.00        79\n",
      "           1       0.77      1.00      0.87       261\n",
      "\n",
      "    accuracy                           0.77       340\n",
      "   macro avg       0.38      0.50      0.43       340\n",
      "weighted avg       0.59      0.77      0.67       340\n",
      "\n",
      "[[  0  79]\n",
      " [  0 261]]\n"
     ]
    }
   ],
   "source": [
    "lasso_af=linear_model.Lasso(alpha= 1,max_iter= 100, random_state= 25, tol= 1e-05, warm_start= 'True' )\n",
    "lasso_af.fit(x_train, y_train)\n",
    "lasso_pred_af = lasso_af.predict(x_test)\n",
    "lasso_pred_af[lasso_pred_af>=0.5]=1\n",
    "lasso_pred_af[lasso_pred_af<=0.5]=0\n",
    "\n",
    "# Calculating its performance\n",
    "print('Mean Squared Error:', metrics.mean_squared_error(y_test, lasso_pred_af))\n",
    "r2_lasso_af = r2_score(lasso_pred_af, y_test)\n",
    "print(\"r2 score_ridge_af :\", r2_lasso_af)\n",
    "print(\"------------------------------------------------------\")\n",
    "print(classification_report(y_test, lasso_pred_af))\n",
    "print(confusion_matrix(y_test, lasso_pred_af))"
   ]
  },
  {
   "cell_type": "markdown",
   "id": "bc923c73",
   "metadata": {},
   "source": [
    "## With Balanced Data"
   ]
  },
  {
   "cell_type": "code",
   "execution_count": 39,
   "id": "31cdb4a3",
   "metadata": {},
   "outputs": [
    {
     "name": "stdout",
     "output_type": "stream",
     "text": [
      "Mean Squared Error: 0.2323529411764706\n",
      "r2 score_ridge_bf : 0.0\n",
      "------------------------------------------------------\n",
      "              precision    recall  f1-score   support\n",
      "\n",
      "           0       0.00      0.00      0.00        79\n",
      "           1       0.77      1.00      0.87       261\n",
      "\n",
      "    accuracy                           0.77       340\n",
      "   macro avg       0.38      0.50      0.43       340\n",
      "weighted avg       0.59      0.77      0.67       340\n",
      "\n",
      "[[  0  79]\n",
      " [  0 261]]\n"
     ]
    }
   ],
   "source": [
    "lasso_bf_smote=linear_model.Lasso()\n",
    "lasso_bf_smote.fit(x_train_smote, y_train_smote)\n",
    "lasso_pred_bf_smote = lasso_bf.predict(x_test)\n",
    "lasso_pred_bf_smote[lasso_pred_bf>=0.5]=1\n",
    "lasso_pred_bf_smote[lasso_pred_bf<=0.5]=0\n",
    " \n",
    "# Calculating its performance\n",
    "print('Mean Squared Error:', metrics.mean_squared_error(y_test, lasso_pred_bf_smote))\n",
    "r2_lasso_bf_smote = r2_score(lasso_pred_bf_smote, y_test)\n",
    "print(\"r2 score_ridge_bf :\", r2_lasso_bf_smote)\n",
    "print(\"------------------------------------------------------\")\n",
    "print(classification_report(y_test, lasso_pred_bf_smote))\n",
    "print(confusion_matrix(y_test, lasso_pred_bf_smote))"
   ]
  },
  {
   "cell_type": "code",
   "execution_count": 40,
   "id": "76e81bea",
   "metadata": {},
   "outputs": [
    {
     "name": "stdout",
     "output_type": "stream",
     "text": [
      "Fitting 5 folds for each of 76800 candidates, totalling 384000 fits\n",
      "{'alpha': 1, 'fit_intercept': 'True', 'max_iter': 100, 'normalize': 'deprecated', 'positive': 'False', 'random_state': 25, 'selection': 'cyclic', 'tol': 1e-05, 'warm_start': 'True'}\n",
      "-0.1855343722967128\n"
     ]
    }
   ],
   "source": [
    "#GridSearchCV\n",
    "params={\n",
    "    'alpha':[1e-15,1e-10,1e-8,1e-3,1e-2,1,5,10,20,30,35,40,45,50,55,100],\n",
    "    'fit_intercept' : ['True','False'],\n",
    "    'max_iter' : [100, 500],\n",
    "    'normalize' :  ['deprecated','True','False'],\n",
    "    'positive' : ['False', 'True'],\n",
    "    'random_state' : [25, 50,75,100, None],\n",
    "    'selection' :['cyclic', 'random'],\n",
    "    'tol' : [1e-5, 1e-4, 3e-4, 1e-3, 3e-3, 1e-3, 5e-3, 1e-2, 5e-2, 1e-1],\n",
    "     'warm_start' : ['True', 'False'],\n",
    "    }\n",
    "\n",
    "clf_lasso=GridSearchCV(estimator= Lasso(),param_grid=params,scoring='neg_mean_squared_error',cv=5,n_jobs=5,verbose=1)\n",
    "\n",
    "clf_lasso.fit(x_train,y_train)\n",
    "print(clf_lasso.best_params_)\n",
    "print(clf_lasso.best_score_)"
   ]
  },
  {
   "cell_type": "markdown",
   "id": "76345dc9",
   "metadata": {},
   "source": [
    "The above output are the best parameters for balanced data, so now I have evaluated Lasso with the best parameters."
   ]
  },
  {
   "cell_type": "code",
   "execution_count": 41,
   "id": "ee59cf2f",
   "metadata": {},
   "outputs": [
    {
     "name": "stdout",
     "output_type": "stream",
     "text": [
      "Mean Squared Error: 0.2323529411764706\n",
      "r2 score_ridge_af : 0.0\n",
      "------------------------------------------------------\n",
      "              precision    recall  f1-score   support\n",
      "\n",
      "           0       0.00      0.00      0.00        79\n",
      "           1       0.77      1.00      0.87       261\n",
      "\n",
      "    accuracy                           0.77       340\n",
      "   macro avg       0.38      0.50      0.43       340\n",
      "weighted avg       0.59      0.77      0.67       340\n",
      "\n",
      "[[  0  79]\n",
      " [  0 261]]\n"
     ]
    }
   ],
   "source": [
    "lasso_af_smote=linear_model.Lasso(alpha = 1, max_iter = 100, random_state = 25, tol= 1e-05, warm_start= True )\n",
    "lasso_af_smote.fit(x_train_smote, y_train_smote)\n",
    "lasso_pred_af_smote = lasso_af_smote.predict(x_test)\n",
    "lasso_pred_af_smote[lasso_pred_af>=0.5]=1\n",
    "lasso_pred_af_smote[lasso_pred_af<=0.5]=0\n",
    " \n",
    "# Calculating its performance\n",
    "print('Mean Squared Error:', metrics.mean_squared_error(y_test, lasso_pred_af_smote))\n",
    "r2_lasso_af_smote = r2_score(lasso_pred_af_smote, y_test)\n",
    "print(\"r2 score_ridge_af :\", r2_lasso_af_smote)\n",
    "print(\"------------------------------------------------------\")\n",
    "print(classification_report(y_test, lasso_pred_af_smote))\n",
    "print(confusion_matrix(y_test, lasso_pred_af_smote))"
   ]
  },
  {
   "cell_type": "markdown",
   "id": "ee250619",
   "metadata": {},
   "source": [
    "#### Now, comparing the Lasso performance with Balanced and Imbalanced Data"
   ]
  },
  {
   "cell_type": "code",
   "execution_count": 42,
   "id": "3b9320a3",
   "metadata": {},
   "outputs": [
    {
     "name": "stdout",
     "output_type": "stream",
     "text": [
      "╒═════════════════════════════╤════════════╤═════════════╤══════════╤════════════════════╕\n",
      "│ Linear Regression           │   Accuracy │   Precision │   Recall │ confusion matrix   │\n",
      "╞═════════════════════════════╪════════════╪═════════════╪══════════╪════════════════════╡\n",
      "│ Ridge without Balanced Data │   0.767647 │    0.767647 │        1 │ [[  0  79]         │\n",
      "│                             │            │             │          │  [  0 261]]        │\n",
      "├─────────────────────────────┼────────────┼─────────────┼──────────┼────────────────────┤\n",
      "│ Ridge with Balanced Data    │   0.767647 │    0.767647 │        1 │ [[  0  79]         │\n",
      "│                             │            │             │          │  [  0 261]]        │\n",
      "╘═════════════════════════════╧════════════╧═════════════╧══════════╧════════════════════╛\n"
     ]
    }
   ],
   "source": [
    "# compute accuracy score\n",
    "acc_lr_lasso = accuracy_score(y_test,  lasso_pred_bf)\n",
    "acc_lr_lasso_smote = accuracy_score(y_test, lasso_pred_af_smote)\n",
    "\n",
    "\n",
    "# compute confusion matrix\n",
    "cnf_lr_lasso = confusion_matrix(y_test,  lasso_pred_bf)\n",
    "cnf_lr_lasso_smote = confusion_matrix(y_test, lasso_pred_af_smote)\n",
    "\n",
    "\n",
    "# compute recall \n",
    "recall_lr_lasso = recall_score(y_test,  lasso_pred_bf)\n",
    "recall_lr_lasso_smote = recall_score(y_test, lasso_pred_af_smote)\n",
    "\n",
    "\n",
    "# compute precision\n",
    "precision_lr_lasso = precision_score(y_test,  lasso_pred_bf)\n",
    "precision_lr_lasso_smote = precision_score(y_test, lasso_pred_af_smote)\n",
    "\n",
    "\n",
    "\n",
    "\n",
    "# table\n",
    "from tabulate import tabulate\n",
    "table_data = [['Linear Regression','Accuracy', 'Precision', 'Recall', 'confusion matrix' ],\n",
    "             ['Ridge without Balanced Data' , acc_lr_lasso, precision_lr_lasso, recall_lr_lasso, cnf_lr_lasso ],\n",
    "             ['Ridge with Balanced Data', acc_lr_lasso_smote, precision_lr_lasso_smote, recall_lr_lasso_smote, cnf_lr_lasso_smote],\n",
    "             ]\n",
    "print(tabulate(table_data, headers= \"firstrow\", tablefmt=\"fancy_grid\" ))"
   ]
  },
  {
   "cell_type": "markdown",
   "id": "f81cae1a",
   "metadata": {},
   "source": [
    "### Comparision Table of the evaluated Performance"
   ]
  },
  {
   "cell_type": "code",
   "execution_count": 43,
   "id": "48af6d0a",
   "metadata": {},
   "outputs": [
    {
     "name": "stdout",
     "output_type": "stream",
     "text": [
      "L2 weights:  [ 3.57349377e-01 -9.33899857e-02 -7.36017038e-01  8.22289393e-01\n",
      " -2.50221379e-02  2.04200045e-01  3.85428998e-03  2.64160167e-03\n",
      "  8.46727596e-05  8.35200305e-02  2.46483699e-03 -4.04779125e-02\n",
      " -1.73242796e-03 -2.01828089e-01 -1.25624571e-01 -2.03152768e-03\n",
      "  2.55558386e-02 -2.56382693e-02  3.26814347e-03 -5.31551880e-04\n",
      " -9.53189547e-02  7.37162145e-02  8.36443379e-03  5.34788884e-04\n",
      "  2.27376985e-02  1.72179962e-03]\n",
      "L1 weights:  [-0.00000000e+00 -0.00000000e+00 -0.00000000e+00  0.00000000e+00\n",
      " -0.00000000e+00 -0.00000000e+00 -0.00000000e+00  0.00000000e+00\n",
      "  0.00000000e+00 -0.00000000e+00  0.00000000e+00 -0.00000000e+00\n",
      " -0.00000000e+00 -0.00000000e+00 -0.00000000e+00 -3.04179757e-05\n",
      "  0.00000000e+00  0.00000000e+00  0.00000000e+00 -0.00000000e+00\n",
      " -0.00000000e+00  0.00000000e+00  0.00000000e+00 -0.00000000e+00\n",
      " -0.00000000e+00  0.00000000e+00]\n"
     ]
    }
   ],
   "source": [
    "from sklearn import linear_model\n",
    "\n",
    "# L2 regression\n",
    "l2_regression = linear_model.Ridge(alpha=1e-15)\n",
    "l2_regression.fit(x_train_smote, y_train_smote)\n",
    "y2_pred = l2_regression.predict(x_test)\n",
    "\n",
    "# L1 regression\n",
    "l1_regression = linear_model.Lasso(alpha=1)\n",
    "l1_regression.fit(x_train_smote, y_train_smote)\n",
    "y1_pred = l1_regression.predict(x_test)\n",
    "\n",
    "\n",
    "# Let's print the weights\n",
    "print(\"L2 weights: \", l2_regression.coef_)\n",
    "print(\"L1 weights: \", l1_regression.coef_)\n",
    "\n"
   ]
  },
  {
   "cell_type": "code",
   "execution_count": 44,
   "id": "b4bcf06f",
   "metadata": {},
   "outputs": [
    {
     "name": "stdout",
     "output_type": "stream",
     "text": [
      "╒══════════════════════════════╤════════════╤═════════════╤══════════╤════════════════════╕\n",
      "│ Models                       │   Accuracy │   Precision │   Recall │ confusion matrix   │\n",
      "╞══════════════════════════════╪════════════╪═════════════╪══════════╪════════════════════╡\n",
      "│ Linear Regression            │   0.776471 │    0.779456 │ 0.988506 │ [[  6  73]         │\n",
      "│                              │            │             │          │  [  3 258]]        │\n",
      "├──────────────────────────────┼────────────┼─────────────┼──────────┼────────────────────┤\n",
      "│ Linear Regression with Ridge │   0.776471 │    0.779456 │ 0.988506 │ [[  3  76]         │\n",
      "│                              │            │             │          │  [  1 260]]        │\n",
      "├──────────────────────────────┼────────────┼─────────────┼──────────┼────────────────────┤\n",
      "│ Linear Regression with Lasso │   0.767647 │    0.767647 │ 1        │ [[  0  79]         │\n",
      "│                              │            │             │          │  [  0 261]]        │\n",
      "╘══════════════════════════════╧════════════╧═════════════╧══════════╧════════════════════╛\n"
     ]
    }
   ],
   "source": [
    "# compute accuracy score\n",
    "acc_lr = accuracy_score(y_test, lin_pred_smote)\n",
    "acc_ridge = accuracy_score(y_test, ridge_pred_bf_smote)\n",
    "acc_lasso = accuracy_score(y_test, lasso_pred_af_smote)\n",
    "\n",
    "# compute confusion matrix\n",
    "cnf_lr = confusion_matrix(y_test, lin_pred_smote)\n",
    "cnf_ridge = confusion_matrix(y_test, ridge_pred_bf_smote)\n",
    "cnf_lasso = confusion_matrix(y_test, lasso_pred_af_smote)\n",
    "\n",
    "# compute recall \n",
    "recall_lr = recall_score(y_test, lin_pred_smote)\n",
    "recall_ridge = recall_score(y_test,ridge_pred_bf_smote)\n",
    "recall_lasso = recall_score(y_test, lasso_pred_af_smote)\n",
    "\n",
    "# compute precision\n",
    "precision_lr = precision_score(y_test, lin_pred_smote)\n",
    "precision_ridge = precision_score(y_test,ridge_pred_bf_smote)\n",
    "precision_lasso = precision_score(y_test,lasso_pred_af_smote)\n",
    "\n",
    "\n",
    "\n",
    "# table\n",
    "from tabulate import tabulate\n",
    "table_data = [['Models','Accuracy', 'Precision', 'Recall', 'confusion matrix' ],\n",
    "             ['Linear Regression' , acc_lr, precision_lr, recall_lr, cnf_lr ],\n",
    "             ['Linear Regression with Ridge', acc_ridge, precision_ridge, recall_ridge, cnf_lr_ridge],\n",
    "             ['Linear Regression with Lasso' ,  acc_lasso, precision_lasso, recall_lasso, cnf_lr_lasso]]\n",
    "print(tabulate(table_data, headers= \"firstrow\", tablefmt=\"fancy_grid\" ))"
   ]
  },
  {
   "cell_type": "markdown",
   "id": "eb2595de",
   "metadata": {},
   "source": [
    "**Note:** From the above results, we can see that False Negative prediction is high, i.e., Actual positive cases incorrectly predicted as negative. Even, after applying best parameters also, the linear regression is not performed well, that is clearly seen on the above comparison table that linear regression is not predicting well for this given dataset. "
   ]
  },
  {
   "cell_type": "code",
   "execution_count": 45,
   "id": "b041f46e",
   "metadata": {},
   "outputs": [
    {
     "data": {
      "text/plain": [
       "<AxesSubplot:xlabel='InvGrd', ylabel='Density'>"
      ]
     },
     "execution_count": 45,
     "metadata": {},
     "output_type": "execute_result"
    },
    {
     "data": {
      "image/png": "[encoded data removed]",
      "text/plain": [
       "<Figure size 640x480 with 1 Axes>"
      ]
     },
     "metadata": {},
     "output_type": "display_data"
    }
   ],
   "source": [
    "sns.distplot(y_test-lasso_pred_bf)\n"
   ]
  },
  {
   "cell_type": "code",
   "execution_count": 46,
   "id": "837547bc",
   "metadata": {},
   "outputs": [
    {
     "data": {
      "text/plain": [
       "<AxesSubplot:xlabel='InvGrd', ylabel='Density'>"
      ]
     },
     "execution_count": 46,
     "metadata": {},
     "output_type": "execute_result"
    },
    {
     "data": {
      "image/png": "[encoded data removed]",
      "text/plain": [
       "<Figure size 640x480 with 1 Axes>"
      ]
     },
     "metadata": {},
     "output_type": "display_data"
    }
   ],
   "source": [
    "sns.distplot(y_test-lasso_pred_af)"
   ]
  },
  {
   "cell_type": "markdown",
   "id": "1fe1e26d",
   "metadata": {},
   "source": [
    "# Logistic Regression with Ridge and Lasso"
   ]
  },
  {
   "cell_type": "markdown",
   "id": "0afad719",
   "metadata": {},
   "source": [
    "**Outline:**\n",
    "* Hyperparameter Tuning\n",
    "* With Imbalanced Data\n",
    "* With Balanced Data"
   ]
  },
  {
   "cell_type": "markdown",
   "id": "09e4f5a2",
   "metadata": {},
   "source": [
    "### Hyperparameter Tuning"
   ]
  },
  {
   "cell_type": "code",
   "execution_count": 47,
   "id": "61a302b0",
   "metadata": {},
   "outputs": [
    {
     "name": "stdout",
     "output_type": "stream",
     "text": [
      "Best hyperparameters for Lasso logistic regression: {'C': 1, 'penalty': 'l1'}\n",
      "Best hyperparameters for Ridge logistic regression: {'C': 0.01, 'penalty': 'l2'}\n",
      "-------------------------------------------------\n",
      "Lasso logistic regression classification report:\n",
      "               precision    recall  f1-score   support\n",
      "\n",
      "           0       0.31      0.05      0.09        79\n",
      "           1       0.77      0.97      0.86       261\n",
      "\n",
      "    accuracy                           0.75       340\n",
      "   macro avg       0.54      0.51      0.47       340\n",
      "weighted avg       0.66      0.75      0.68       340\n",
      "\n",
      "-------------------------------------------------\n",
      "Ridge logistic regression classification report:\n",
      "               precision    recall  f1-score   support\n",
      "\n",
      "           0       0.31      0.05      0.09        79\n",
      "           1       0.77      0.97      0.86       261\n",
      "\n",
      "    accuracy                           0.75       340\n",
      "   macro avg       0.54      0.51      0.47       340\n",
      "weighted avg       0.66      0.75      0.68       340\n",
      "\n"
     ]
    }
   ],
   "source": [
    "# define parameter grid for Lasso and Ridge logistic regression\n",
    "lasso_params = {'penalty': ['l1'], 'C': [0.01, 0.1, 1, 10, 100]}\n",
    "ridge_params = {'penalty': ['l2'], 'C': [0.01, 0.1, 1, 10, 100]}\n",
    "\n",
    "# perform grid search cross-validation to find the best hyperparameters for Lasso logistic regression\n",
    "lasso_grid = GridSearchCV(LogisticRegression(solver='saga', max_iter=1000), lasso_params, cv=5, scoring='accuracy')\n",
    "lasso_grid.fit(x_train, y_train)\n",
    "print(\"Best hyperparameters for Lasso logistic regression:\", lasso_grid.best_params_)\n",
    "\n",
    "# perform grid search cross-validation to find the best hyperparameters for Ridge logistic regression\n",
    "ridge_grid = GridSearchCV(LogisticRegression(solver='saga', max_iter=1000), ridge_params, cv=5, scoring='accuracy')\n",
    "ridge_grid.fit(x_train, y_train)\n",
    "print(\"Best hyperparameters for Ridge logistic regression:\", ridge_grid.best_params_)\n",
    "\n",
    "# evaluate Lasso and Ridge logistic regression models on the testing set\n",
    "lasso_y_pred = lasso_grid.predict(x_test)\n",
    "lasso_report = classification_report(y_test, lasso_y_pred)\n",
    "print(\"-------------------------------------------------\")\n",
    "print(\"Lasso logistic regression classification report:\\n\", lasso_report)\n",
    "print(\"-------------------------------------------------\")\n",
    "ridge_y_pred = ridge_grid.predict(x_test)\n",
    "ridge_report = classification_report(y_test, ridge_y_pred)\n",
    "print(\"Ridge logistic regression classification report:\\n\", ridge_report)"
   ]
  },
  {
   "cell_type": "markdown",
   "id": "95740fae",
   "metadata": {},
   "source": [
    "### With Imbalanced Data"
   ]
  },
  {
   "cell_type": "code",
   "execution_count": 48,
   "id": "6f652b56",
   "metadata": {
    "scrolled": true
   },
   "outputs": [
    {
     "name": "stdout",
     "output_type": "stream",
     "text": [
      "╒═══════════════════════════╤════════════╤═════════════╤══════════╤════════════════════╕\n",
      "│ models                    │   Accuracy │   Precision │   Recall │ confusion matrix   │\n",
      "╞═══════════════════════════╪════════════╪═════════════╪══════════╪════════════════════╡\n",
      "│ logistic regression       │   0.776471 │    0.782875 │ 0.980843 │ [[  8  71]         │\n",
      "│                           │            │             │          │  [  5 256]]        │\n",
      "├───────────────────────────┼────────────┼─────────────┼──────────┼────────────────────┤\n",
      "│ Lasso logistic regression │   0.761765 │    0.769461 │ 0.984674 │ [[  2  77]         │\n",
      "│                           │            │             │          │  [  4 257]]        │\n",
      "├───────────────────────────┼────────────┼─────────────┼──────────┼────────────────────┤\n",
      "│ Ridge logistic regression │   0.752941 │    0.770642 │ 0.965517 │ [[  4  75]         │\n",
      "│                           │            │             │          │  [  9 252]]        │\n",
      "╘═══════════════════════════╧════════════╧═════════════╧══════════╧════════════════════╛\n"
     ]
    }
   ],
   "source": [
    "from sklearn.linear_model import LogisticRegression\n",
    "from sklearn.model_selection import train_test_split\n",
    "from sklearn.metrics import accuracy_score, recall_score, precision_score\n",
    "import numpy as np\n",
    "\n",
    "log = LogisticRegression()\n",
    "log.fit(x_train, y_train)\n",
    "\n",
    "# create and fit the logistic regression model with L1 penalty (Lasso)\n",
    "lr_lasso = LogisticRegression(penalty='l1', solver='saga', max_iter=1000, C = 0.01 )\n",
    "lr_lasso.fit(x_train, y_train)\n",
    "\n",
    "# create and fit the logistic regression model with L2 penalty (Ridge)\n",
    "lr_ridge = LogisticRegression(penalty='l2', solver='saga', max_iter=1000, C = 0.01)\n",
    "lr_ridge.fit(x_train, y_train)\n",
    "\n",
    "# make predictions using each model\n",
    "y_pred_log = log.predict(x_test)\n",
    "y_pred_lasso = lr_lasso.predict(x_test)\n",
    "y_pred_ridge = lr_ridge.predict(x_test)\n",
    "\n",
    "# evaluate the models using accuracy score\n",
    "acc_log = accuracy_score(y_test, y_pred_log)\n",
    "acc_lasso = accuracy_score(y_test, y_pred_lasso)\n",
    "acc_ridge = accuracy_score(y_test, y_pred_ridge)\n",
    "\n",
    "# compute recall \n",
    "recall_log = recall_score(y_test, y_pred_log)\n",
    "recall_lasso = recall_score(y_test, y_pred_lasso)\n",
    "recall_ridge = recall_score(y_test, y_pred_ridge)\n",
    "\n",
    "# compute precision\n",
    "precision_log = precision_score(y_test, y_pred_log)\n",
    "precision_lasso = precision_score(y_test, y_pred_lasso)\n",
    "precision_ridge = precision_score(y_test, y_pred_ridge)\n",
    "\n",
    "\n",
    "# table\n",
    "from tabulate import tabulate\n",
    "table_data = [['models','Accuracy', 'Precision', 'Recall', 'confusion matrix' ],\n",
    "             ['logistic regression' , acc_log, precision_log, recall_log, confusion_matrix(y_test, y_pred_log) ],\n",
    "             ['Lasso logistic regression', acc_lasso, precision_lasso, recall_lasso, confusion_matrix(y_test, y_pred_lasso)],\n",
    "             ['Ridge logistic regression' ,  acc_ridge, precision_ridge, recall_ridge, confusion_matrix(y_test, y_pred_ridge)]]\n",
    "print(tabulate(table_data, headers= \"firstrow\", tablefmt=\"fancy_grid\" ))\n"
   ]
  },
  {
   "cell_type": "markdown",
   "id": "8629418b",
   "metadata": {},
   "source": [
    "**Note:** From the above results, we can see that False Negative prediction is high, i.e., Actual positive cases incorrectly predicted as negative. Even, after applying best parameters also, the logistic regression performance is clearly seen on the above comparison table that its accuracy, precision , recall is good, eventhough its false negative predictions are little high for imbalanced data."
   ]
  },
  {
   "cell_type": "markdown",
   "id": "acf29058",
   "metadata": {},
   "source": [
    "### With Balanced Data"
   ]
  },
  {
   "cell_type": "code",
   "execution_count": 49,
   "id": "646f8e8b",
   "metadata": {},
   "outputs": [
    {
     "name": "stdout",
     "output_type": "stream",
     "text": [
      "╒═══════════════════════════╤════════════╤═════════════╤══════════╤════════════════════╕\n",
      "│ models                    │   Accuracy │   Precision │   Recall │ confusion matrix   │\n",
      "╞═══════════════════════════╪════════════╪═════════════╪══════════╪════════════════════╡\n",
      "│ logistic regression       │   0.676471 │    0.821277 │ 0.739464 │ [[ 37  42]         │\n",
      "│                           │            │             │          │  [ 68 193]]        │\n",
      "├───────────────────────────┼────────────┼─────────────┼──────────┼────────────────────┤\n",
      "│ Lasso logistic regression │   0.6      │    0.834225 │ 0.597701 │ [[ 48  31]         │\n",
      "│                           │            │             │          │  [105 156]]        │\n",
      "├───────────────────────────┼────────────┼─────────────┼──────────┼────────────────────┤\n",
      "│ Ridge logistic regression │   0.6      │    0.834225 │ 0.597701 │ [[ 48  31]         │\n",
      "│                           │            │             │          │  [105 156]]        │\n",
      "╘═══════════════════════════╧════════════╧═════════════╧══════════╧════════════════════╛\n"
     ]
    }
   ],
   "source": [
    "log_smote = LogisticRegression()\n",
    "log_smote.fit(x_train_smote, y_train_smote)\n",
    "\n",
    "# create and fit the logistic regression model with L1 penalty (Lasso)\n",
    "lr_lasso_smote = LogisticRegression(penalty='l1', solver='saga', max_iter=1000)\n",
    "lr_lasso_smote.fit(x_train_smote, y_train_smote)\n",
    "\n",
    "# create and fit the logistic regression model with L2 penalty (Ridge)\n",
    "lr_ridge_smote = LogisticRegression(penalty='l2', solver='saga', max_iter=1000)\n",
    "lr_ridge_smote.fit(x_train_smote, y_train_smote)\n",
    "\n",
    "# make predictions using each model\n",
    "y_pred_log_smote = log_smote.predict(x_test)\n",
    "y_pred_lasso_smote = lr_lasso_smote.predict(x_test)\n",
    "y_pred_ridge_smote = lr_ridge_smote.predict(x_test)\n",
    "\n",
    "# evaluate the models using accuracy score\n",
    "acc_log_smote = accuracy_score(y_test, y_pred_log_smote)\n",
    "acc_lasso_smote = accuracy_score(y_test, y_pred_lasso_smote)\n",
    "acc_ridge_smote = accuracy_score(y_test, y_pred_ridge_smote)\n",
    "\n",
    "\n",
    "# compute recall \n",
    "recall_log_smote = recall_score(y_test, y_pred_log_smote)\n",
    "recall_lasso_smote = recall_score(y_test, y_pred_lasso_smote)\n",
    "recall_ridge_smote = recall_score(y_test, y_pred_ridge_smote)\n",
    "\n",
    "# compute precision\n",
    "precision_log_smote = precision_score(y_test, y_pred_log_smote)\n",
    "precision_lasso_smote = precision_score(y_test, y_pred_lasso_smote)\n",
    "precision_ridge_smote = precision_score(y_test, y_pred_ridge_smote)\n",
    "\n",
    "\n",
    "# table\n",
    "from tabulate import tabulate\n",
    "table_data = [['models','Accuracy', 'Precision', 'Recall', 'confusion matrix' ],\n",
    "             ['logistic regression' , acc_log_smote, precision_log_smote, recall_log_smote, confusion_matrix(y_test, y_pred_log_smote) ],\n",
    "             ['Lasso logistic regression', acc_lasso_smote, precision_lasso_smote, recall_lasso_smote, confusion_matrix(y_test, y_pred_lasso_smote)],\n",
    "             ['Ridge logistic regression' ,  acc_ridge_smote, precision_ridge_smote, recall_ridge_smote, confusion_matrix(y_test, y_pred_ridge_smote)]]\n",
    "print(tabulate(table_data, headers= \"firstrow\", tablefmt=\"fancy_grid\" ))"
   ]
  },
  {
   "cell_type": "markdown",
   "id": "a4a39613",
   "metadata": {},
   "source": [
    "**Note:** From the above results, we can see that False Negative and False positive predictions are little high, i.e., actual positive cases incorrectly predicted as negative and actual negative cases incorrectly predicted as positive. Even, after applying best parameters also, the logistic regression performance is clearly seen on the above comparison table that its accuracy, precision , recall is good, eventhough its false negative and false positive predictions are little high for balanced data."
   ]
  },
  {
   "cell_type": "markdown",
   "id": "f02b54f3",
   "metadata": {},
   "source": [
    "# Neural Network"
   ]
  },
  {
   "cell_type": "markdown",
   "id": "692d9501",
   "metadata": {},
   "source": [
    "In this part, using neural network based approach to classify the firm's rating into one of the rating categories and predicting if it is in an investment grade or not."
   ]
  },
  {
   "cell_type": "code",
   "execution_count": 50,
   "id": "7e5a6700",
   "metadata": {},
   "outputs": [],
   "source": [
    "# Encode the 'Rating' column using LabelEncoder.\n",
    "import pandas as pd\n",
    "from sklearn.preprocessing import LabelEncoder\n",
    "from keras.utils import np_utils\n",
    "label_encoder = LabelEncoder()\n",
    "df['Rating_encoded'] = label_encoder.fit_transform(df['Rating'])"
   ]
  },
  {
   "cell_type": "code",
   "execution_count": 51,
   "id": "ad73dada",
   "metadata": {},
   "outputs": [],
   "source": [
    "# Independent and Dependent Features\n",
    "x=df.drop([\"InvGrd\",\"Rating\",\"Rating_encoded\"],axis=1)\n",
    "y_rating=df.Rating_encoded\n",
    "y_invgrd=df.InvGrd"
   ]
  },
  {
   "cell_type": "code",
   "execution_count": 52,
   "id": "ec5ad256",
   "metadata": {},
   "outputs": [
    {
     "data": {
      "text/plain": [
       "(1700, 26)"
      ]
     },
     "execution_count": 52,
     "metadata": {},
     "output_type": "execute_result"
    }
   ],
   "source": [
    "x.shape"
   ]
  },
  {
   "cell_type": "code",
   "execution_count": 53,
   "id": "f588efcc",
   "metadata": {},
   "outputs": [
    {
     "data": {
      "text/plain": [
       "0        0\n",
       "1        0\n",
       "2        0\n",
       "3        0\n",
       "4        0\n",
       "        ..\n",
       "1695    15\n",
       "1696    15\n",
       "1697    15\n",
       "1698    15\n",
       "1699    15\n",
       "Name: Rating_encoded, Length: 1700, dtype: int32"
      ]
     },
     "execution_count": 53,
     "metadata": {},
     "output_type": "execute_result"
    }
   ],
   "source": [
    "df['Rating_encoded']"
   ]
  },
  {
   "cell_type": "code",
   "execution_count": 54,
   "id": "d622592f",
   "metadata": {},
   "outputs": [],
   "source": [
    "# Convert the encoded 'Rating' column to a categorical variable.\n",
    "y = np_utils.to_categorical(df['Rating_encoded'])"
   ]
  },
  {
   "cell_type": "code",
   "execution_count": 55,
   "id": "19904eca",
   "metadata": {},
   "outputs": [
    {
     "data": {
      "text/plain": [
       "array([[1., 0., 0., ..., 0., 0., 0.],\n",
       "       [1., 0., 0., ..., 0., 0., 0.],\n",
       "       [1., 0., 0., ..., 0., 0., 0.],\n",
       "       ...,\n",
       "       [0., 0., 0., ..., 0., 0., 1.],\n",
       "       [0., 0., 0., ..., 0., 0., 1.],\n",
       "       [0., 0., 0., ..., 0., 0., 1.]], dtype=float32)"
      ]
     },
     "execution_count": 55,
     "metadata": {},
     "output_type": "execute_result"
    }
   ],
   "source": [
    "y"
   ]
  },
  {
   "cell_type": "code",
   "execution_count": 56,
   "id": "68321fb1",
   "metadata": {},
   "outputs": [],
   "source": [
    "# Independent and Dependent Features\n",
    "x=df.drop([\"InvGrd\",\"Rating\",\"Rating_encoded\"],axis=1)\n",
    "y_rating=y\n",
    "y_invgrd=df['InvGrd']"
   ]
  },
  {
   "cell_type": "code",
   "execution_count": 57,
   "id": "dfe9a3a5",
   "metadata": {},
   "outputs": [],
   "source": [
    "from sklearn.preprocessing import StandardScaler\n",
    "\n",
    "# Split the dataset into training and test sets.\n",
    "X_train, X_test, y_train_rating, y_test_rating, y_train_invgrd, y_test_invgrd = train_test_split(\n",
    "    x, y_rating, y_invgrd, test_size=0.2, random_state=42)\n",
    "\n",
    "# Scale the data\n",
    "scaler = StandardScaler()\n",
    "X_train = scaler.fit_transform(X_train)\n",
    "X_test = scaler.transform(X_test)"
   ]
  },
  {
   "cell_type": "code",
   "execution_count": 58,
   "id": "db58aad5",
   "metadata": {},
   "outputs": [
    {
     "data": {
      "text/plain": [
       "<keras.callbacks.History at 0x2c815514220>"
      ]
     },
     "execution_count": 58,
     "metadata": {},
     "output_type": "execute_result"
    }
   ],
   "source": [
    "# Build and train a Neural Networks model.\n",
    "from sklearn.preprocessing import StandardScaler\n",
    "from keras.models import Sequential\n",
    "from keras.layers import Dense\n",
    "model = Sequential()\n",
    "model.add(Dense(64, input_dim=X_train.shape[1], activation='relu'))\n",
    "model.add(Dense(32, activation='relu'))\n",
    "model.add(Dense(16, activation='softmax'))\n",
    "model.compile(loss='categorical_crossentropy', optimizer='adam', metrics=['accuracy'])\n",
    "model.fit(X_train, y_train_rating, epochs=100, batch_size=32, verbose=0)"
   ]
  },
  {
   "cell_type": "code",
   "execution_count": 59,
   "id": "893c9811",
   "metadata": {},
   "outputs": [
    {
     "name": "stdout",
     "output_type": "stream",
     "text": [
      "11/11 [==============================] - 0s 532us/step - loss: 3.2849 - accuracy: 0.3412\n",
      "Test set accuracy: 0.34\n"
     ]
    }
   ],
   "source": [
    "# Evaluate the model's performance on the test set.\n",
    "loss, accuracy = model.evaluate(X_test, y_test_rating)\n",
    "print(f'Test set accuracy: {accuracy:.2f}')"
   ]
  },
  {
   "cell_type": "code",
   "execution_count": 60,
   "id": "3e2a83e9",
   "metadata": {},
   "outputs": [
    {
     "name": "stdout",
     "output_type": "stream",
     "text": [
      "11/11 [==============================] - 0s 561us/step\n"
     ]
    }
   ],
   "source": [
    "rating_pred=model.predict(X_test)"
   ]
  },
  {
   "cell_type": "code",
   "execution_count": 61,
   "id": "b0b55e24",
   "metadata": {},
   "outputs": [
    {
     "data": {
      "text/plain": [
       "array([[1.2827196e-02, 1.8814783e-01, 1.7277913e-02, ..., 2.7361697e-01,\n",
       "        1.7439595e-01, 3.6917038e-03],\n",
       "       [8.2738951e-02, 5.7314780e-02, 1.7782886e-02, ..., 4.4091672e-02,\n",
       "        2.9928818e-01, 3.5097051e-04],\n",
       "       [5.0341738e-03, 8.5912877e-01, 1.6027838e-02, ..., 2.8857451e-02,\n",
       "        1.7894531e-02, 2.4954103e-08],\n",
       "       ...,\n",
       "       [3.5952933e-02, 6.2620319e-02, 1.0821402e-02, ..., 4.5445567e-01,\n",
       "        1.3950497e-01, 4.2366830e-04],\n",
       "       [3.9737038e-02, 3.7501195e-01, 1.7624462e-02, ..., 1.2414044e-01,\n",
       "        8.0931440e-02, 4.6303154e-05],\n",
       "       [1.5896799e-01, 5.5049393e-02, 1.5626706e-02, ..., 1.6714887e-01,\n",
       "        1.4273807e-01, 7.1461991e-06]], dtype=float32)"
      ]
     },
     "execution_count": 61,
     "metadata": {},
     "output_type": "execute_result"
    }
   ],
   "source": [
    "rating_pred"
   ]
  },
  {
   "cell_type": "code",
   "execution_count": 62,
   "id": "77ec68c4",
   "metadata": {},
   "outputs": [
    {
     "name": "stdout",
     "output_type": "stream",
     "text": [
      "[13  4  1 13 14 13 13  1  1 10 10  4  1 12 13 14  4 13  4  4 14  0 15 12\n",
      " 10 13 12 13 12  7 14  4 14 13 13 12  4 14 13 13 14 13 13  8 13 13 14  4\n",
      " 13 13 14 13 14  4  8 13 13 14 14 14  4 11 14 12 14 13 14  6 10 10 13 11\n",
      " 10  0  4 14 14 13  7 14 13  1  8 14  7 13  8 13  4 13 12 14 10 14 14 14\n",
      "  0  4  6 12  3 13 11  4 12 13  0 14  4 10 14 13 13 12 14 12  4 14 13 14\n",
      " 12 12  4 12 14 13 14  4  0 10  0 13  1  9 13 14 13 12 12 14  4 14 12 10\n",
      " 13 14 12  4 13 13 13  4 10 14 14 11  7 10  1 10 14 13  4  4  0  1 14 10\n",
      "  1 13  4  6 14 13 13 13 11  4  1 10 14 11 13  1 14 11 13  4 13 12 11 14\n",
      " 11 11 14 14 11 13  4 10  4 13  0  4 11 14 10  4  8 13 11  7 12 13 14 10\n",
      "  4 12  4  1 10 13 14 14  4  1  4  1 13 14  1  6  1 12  4  4  4  1 11  7\n",
      " 13 14 10 12 11 14  4 10 10 14 13  4 13  4 12  4  4 14 11  1 12 12 11 13\n",
      " 14  3  4  1 14 14  1  3 13 13 13  1  7  4  6 14  4 12  4  1 10  1  0 13\n",
      " 14 13 11  4  0  1 12  2 12  4  0 14  8 14  1  1  4 15 10  0 11 13  4 14\n",
      " 12  0 13 13  4 13  4 13 10 13 12  8  6  4 14  8  1  1 13 12  1  4 13 14\n",
      "  7 13  1 13]\n"
     ]
    }
   ],
   "source": [
    "# Convert the one-hot encoded array to a 1D array of class labels.\n",
    "y_pred_labels = np.argmax(rating_pred, axis=1)\n",
    "\n",
    "# Print the resulting array.\n",
    "print(y_pred_labels)"
   ]
  },
  {
   "cell_type": "code",
   "execution_count": 63,
   "id": "c0785e02",
   "metadata": {},
   "outputs": [
    {
     "name": "stdout",
     "output_type": "stream",
     "text": [
      "['Investment Grade', 'Investment Grade', 'Investment Grade', 'Investment Grade', 'Investment Grade', 'Investment Grade', 'Investment Grade', 'Investment Grade', 'Investment Grade', 'Non-Investment Grade', 'Non-Investment Grade', 'Investment Grade', 'Investment Grade', 'Investment Grade', 'Investment Grade', 'Investment Grade', 'Investment Grade', 'Investment Grade', 'Investment Grade', 'Investment Grade', 'Investment Grade', 'Investment Grade', 'Non-Investment Grade', 'Investment Grade', 'Non-Investment Grade', 'Investment Grade', 'Investment Grade', 'Investment Grade', 'Investment Grade', 'Non-Investment Grade', 'Investment Grade', 'Investment Grade', 'Investment Grade', 'Investment Grade', 'Investment Grade', 'Investment Grade', 'Investment Grade', 'Investment Grade', 'Investment Grade', 'Investment Grade', 'Investment Grade', 'Investment Grade', 'Investment Grade', 'Non-Investment Grade', 'Investment Grade', 'Investment Grade', 'Investment Grade', 'Investment Grade', 'Investment Grade', 'Investment Grade', 'Investment Grade', 'Investment Grade', 'Investment Grade', 'Investment Grade', 'Non-Investment Grade', 'Investment Grade', 'Investment Grade', 'Investment Grade', 'Investment Grade', 'Investment Grade', 'Investment Grade', 'Non-Investment Grade', 'Investment Grade', 'Investment Grade', 'Investment Grade', 'Investment Grade', 'Investment Grade', 'Non-Investment Grade', 'Non-Investment Grade', 'Non-Investment Grade', 'Investment Grade', 'Non-Investment Grade', 'Non-Investment Grade', 'Investment Grade', 'Investment Grade', 'Investment Grade', 'Investment Grade', 'Investment Grade', 'Non-Investment Grade', 'Investment Grade', 'Investment Grade', 'Investment Grade', 'Non-Investment Grade', 'Investment Grade', 'Non-Investment Grade', 'Investment Grade', 'Non-Investment Grade', 'Investment Grade', 'Investment Grade', 'Investment Grade', 'Investment Grade', 'Investment Grade', 'Non-Investment Grade', 'Investment Grade', 'Investment Grade', 'Investment Grade', 'Investment Grade', 'Investment Grade', 'Non-Investment Grade', 'Investment Grade', 'Investment Grade', 'Investment Grade', 'Non-Investment Grade', 'Investment Grade', 'Investment Grade', 'Investment Grade', 'Investment Grade', 'Investment Grade', 'Investment Grade', 'Non-Investment Grade', 'Investment Grade', 'Investment Grade', 'Investment Grade', 'Investment Grade', 'Investment Grade', 'Investment Grade', 'Investment Grade', 'Investment Grade', 'Investment Grade', 'Investment Grade', 'Investment Grade', 'Investment Grade', 'Investment Grade', 'Investment Grade', 'Investment Grade', 'Investment Grade', 'Investment Grade', 'Investment Grade', 'Investment Grade', 'Non-Investment Grade', 'Investment Grade', 'Investment Grade', 'Investment Grade', 'Non-Investment Grade', 'Investment Grade', 'Investment Grade', 'Investment Grade', 'Investment Grade', 'Investment Grade', 'Investment Grade', 'Investment Grade', 'Investment Grade', 'Investment Grade', 'Non-Investment Grade', 'Investment Grade', 'Investment Grade', 'Investment Grade', 'Investment Grade', 'Investment Grade', 'Investment Grade', 'Investment Grade', 'Investment Grade', 'Non-Investment Grade', 'Investment Grade', 'Investment Grade', 'Non-Investment Grade', 'Non-Investment Grade', 'Non-Investment Grade', 'Investment Grade', 'Non-Investment Grade', 'Investment Grade', 'Investment Grade', 'Investment Grade', 'Investment Grade', 'Investment Grade', 'Investment Grade', 'Investment Grade', 'Non-Investment Grade', 'Investment Grade', 'Investment Grade', 'Investment Grade', 'Non-Investment Grade', 'Investment Grade', 'Investment Grade', 'Investment Grade', 'Investment Grade', 'Non-Investment Grade', 'Investment Grade', 'Investment Grade', 'Non-Investment Grade', 'Investment Grade', 'Non-Investment Grade', 'Investment Grade', 'Investment Grade', 'Investment Grade', 'Non-Investment Grade', 'Investment Grade', 'Investment Grade', 'Investment Grade', 'Investment Grade', 'Non-Investment Grade', 'Investment Grade', 'Non-Investment Grade', 'Non-Investment Grade', 'Investment Grade', 'Investment Grade', 'Non-Investment Grade', 'Investment Grade', 'Investment Grade', 'Non-Investment Grade', 'Investment Grade', 'Investment Grade', 'Investment Grade', 'Investment Grade', 'Non-Investment Grade', 'Investment Grade', 'Non-Investment Grade', 'Investment Grade', 'Non-Investment Grade', 'Investment Grade', 'Non-Investment Grade', 'Non-Investment Grade', 'Investment Grade', 'Investment Grade', 'Investment Grade', 'Non-Investment Grade', 'Investment Grade', 'Investment Grade', 'Investment Grade', 'Investment Grade', 'Non-Investment Grade', 'Investment Grade', 'Investment Grade', 'Investment Grade', 'Investment Grade', 'Investment Grade', 'Investment Grade', 'Investment Grade', 'Investment Grade', 'Investment Grade', 'Investment Grade', 'Non-Investment Grade', 'Investment Grade', 'Investment Grade', 'Investment Grade', 'Investment Grade', 'Investment Grade', 'Investment Grade', 'Non-Investment Grade', 'Non-Investment Grade', 'Investment Grade', 'Investment Grade', 'Non-Investment Grade', 'Investment Grade', 'Non-Investment Grade', 'Investment Grade', 'Investment Grade', 'Non-Investment Grade', 'Non-Investment Grade', 'Investment Grade', 'Investment Grade', 'Investment Grade', 'Investment Grade', 'Investment Grade', 'Investment Grade', 'Investment Grade', 'Investment Grade', 'Investment Grade', 'Non-Investment Grade', 'Investment Grade', 'Investment Grade', 'Investment Grade', 'Non-Investment Grade', 'Investment Grade', 'Investment Grade', 'Investment Grade', 'Investment Grade', 'Investment Grade', 'Investment Grade', 'Investment Grade', 'Investment Grade', 'Investment Grade', 'Investment Grade', 'Investment Grade', 'Investment Grade', 'Investment Grade', 'Non-Investment Grade', 'Investment Grade', 'Non-Investment Grade', 'Investment Grade', 'Investment Grade', 'Investment Grade', 'Investment Grade', 'Investment Grade', 'Non-Investment Grade', 'Investment Grade', 'Investment Grade', 'Investment Grade', 'Investment Grade', 'Investment Grade', 'Non-Investment Grade', 'Investment Grade', 'Investment Grade', 'Investment Grade', 'Investment Grade', 'Investment Grade', 'Investment Grade', 'Investment Grade', 'Investment Grade', 'Investment Grade', 'Non-Investment Grade', 'Investment Grade', 'Investment Grade', 'Investment Grade', 'Investment Grade', 'Non-Investment Grade', 'Non-Investment Grade', 'Investment Grade', 'Non-Investment Grade', 'Investment Grade', 'Investment Grade', 'Investment Grade', 'Investment Grade', 'Investment Grade', 'Investment Grade', 'Investment Grade', 'Investment Grade', 'Investment Grade', 'Investment Grade', 'Investment Grade', 'Non-Investment Grade', 'Investment Grade', 'Investment Grade', 'Non-Investment Grade', 'Non-Investment Grade', 'Investment Grade', 'Investment Grade', 'Non-Investment Grade', 'Investment Grade', 'Investment Grade', 'Investment Grade', 'Investment Grade', 'Investment Grade', 'Investment Grade', 'Investment Grade', 'Investment Grade', 'Non-Investment Grade', 'Investment Grade', 'Investment Grade', 'Investment Grade']\n"
     ]
    }
   ],
   "source": [
    "rating_pred = label_encoder.inverse_transform(y_pred_labels)\n",
    "\n",
    "# Define the set of investment grade ratings.\n",
    "investment_grade_ratings = {'Aaa', 'Aa1', 'Aa2', 'Aa3', 'A1', 'A2', 'A3', 'Baa1', 'Baa2', 'Baa3'}\n",
    "\n",
    "# Predict the investment grade status of each firm based on its predicted rating.\n",
    "inv_grd_pred = ['Investment Grade' if rating in investment_grade_ratings else 'Non-Investment Grade' for rating in rating_pred]\n",
    "\n",
    "# Print the predicted investment grade status for the test set.\n",
    "print(inv_grd_pred)"
   ]
  },
  {
   "cell_type": "code",
   "execution_count": 64,
   "id": "6372ef88",
   "metadata": {},
   "outputs": [
    {
     "data": {
      "text/plain": [
       "[1,\n",
       " 1,\n",
       " 1,\n",
       " 1,\n",
       " 1,\n",
       " 1,\n",
       " 1,\n",
       " 1,\n",
       " 1,\n",
       " 0,\n",
       " 0,\n",
       " 1,\n",
       " 1,\n",
       " 1,\n",
       " 1,\n",
       " 1,\n",
       " 1,\n",
       " 1,\n",
       " 1,\n",
       " 1,\n",
       " 1,\n",
       " 1,\n",
       " 0,\n",
       " 1,\n",
       " 0,\n",
       " 1,\n",
       " 1,\n",
       " 1,\n",
       " 1,\n",
       " 0,\n",
       " 1,\n",
       " 1,\n",
       " 1,\n",
       " 1,\n",
       " 1,\n",
       " 1,\n",
       " 1,\n",
       " 1,\n",
       " 1,\n",
       " 1,\n",
       " 1,\n",
       " 1,\n",
       " 1,\n",
       " 0,\n",
       " 1,\n",
       " 1,\n",
       " 1,\n",
       " 1,\n",
       " 1,\n",
       " 1,\n",
       " 1,\n",
       " 1,\n",
       " 1,\n",
       " 1,\n",
       " 0,\n",
       " 1,\n",
       " 1,\n",
       " 1,\n",
       " 1,\n",
       " 1,\n",
       " 1,\n",
       " 0,\n",
       " 1,\n",
       " 1,\n",
       " 1,\n",
       " 1,\n",
       " 1,\n",
       " 0,\n",
       " 0,\n",
       " 0,\n",
       " 1,\n",
       " 0,\n",
       " 0,\n",
       " 1,\n",
       " 1,\n",
       " 1,\n",
       " 1,\n",
       " 1,\n",
       " 0,\n",
       " 1,\n",
       " 1,\n",
       " 1,\n",
       " 0,\n",
       " 1,\n",
       " 0,\n",
       " 1,\n",
       " 0,\n",
       " 1,\n",
       " 1,\n",
       " 1,\n",
       " 1,\n",
       " 1,\n",
       " 0,\n",
       " 1,\n",
       " 1,\n",
       " 1,\n",
       " 1,\n",
       " 1,\n",
       " 0,\n",
       " 1,\n",
       " 1,\n",
       " 1,\n",
       " 0,\n",
       " 1,\n",
       " 1,\n",
       " 1,\n",
       " 1,\n",
       " 1,\n",
       " 1,\n",
       " 0,\n",
       " 1,\n",
       " 1,\n",
       " 1,\n",
       " 1,\n",
       " 1,\n",
       " 1,\n",
       " 1,\n",
       " 1,\n",
       " 1,\n",
       " 1,\n",
       " 1,\n",
       " 1,\n",
       " 1,\n",
       " 1,\n",
       " 1,\n",
       " 1,\n",
       " 1,\n",
       " 1,\n",
       " 1,\n",
       " 0,\n",
       " 1,\n",
       " 1,\n",
       " 1,\n",
       " 0,\n",
       " 1,\n",
       " 1,\n",
       " 1,\n",
       " 1,\n",
       " 1,\n",
       " 1,\n",
       " 1,\n",
       " 1,\n",
       " 1,\n",
       " 0,\n",
       " 1,\n",
       " 1,\n",
       " 1,\n",
       " 1,\n",
       " 1,\n",
       " 1,\n",
       " 1,\n",
       " 1,\n",
       " 0,\n",
       " 1,\n",
       " 1,\n",
       " 0,\n",
       " 0,\n",
       " 0,\n",
       " 1,\n",
       " 0,\n",
       " 1,\n",
       " 1,\n",
       " 1,\n",
       " 1,\n",
       " 1,\n",
       " 1,\n",
       " 1,\n",
       " 0,\n",
       " 1,\n",
       " 1,\n",
       " 1,\n",
       " 0,\n",
       " 1,\n",
       " 1,\n",
       " 1,\n",
       " 1,\n",
       " 0,\n",
       " 1,\n",
       " 1,\n",
       " 0,\n",
       " 1,\n",
       " 0,\n",
       " 1,\n",
       " 1,\n",
       " 1,\n",
       " 0,\n",
       " 1,\n",
       " 1,\n",
       " 1,\n",
       " 1,\n",
       " 0,\n",
       " 1,\n",
       " 0,\n",
       " 0,\n",
       " 1,\n",
       " 1,\n",
       " 0,\n",
       " 1,\n",
       " 1,\n",
       " 0,\n",
       " 1,\n",
       " 1,\n",
       " 1,\n",
       " 1,\n",
       " 0,\n",
       " 1,\n",
       " 0,\n",
       " 1,\n",
       " 0,\n",
       " 1,\n",
       " 0,\n",
       " 0,\n",
       " 1,\n",
       " 1,\n",
       " 1,\n",
       " 0,\n",
       " 1,\n",
       " 1,\n",
       " 1,\n",
       " 1,\n",
       " 0,\n",
       " 1,\n",
       " 1,\n",
       " 1,\n",
       " 1,\n",
       " 1,\n",
       " 1,\n",
       " 1,\n",
       " 1,\n",
       " 1,\n",
       " 1,\n",
       " 0,\n",
       " 1,\n",
       " 1,\n",
       " 1,\n",
       " 1,\n",
       " 1,\n",
       " 1,\n",
       " 0,\n",
       " 0,\n",
       " 1,\n",
       " 1,\n",
       " 0,\n",
       " 1,\n",
       " 0,\n",
       " 1,\n",
       " 1,\n",
       " 0,\n",
       " 0,\n",
       " 1,\n",
       " 1,\n",
       " 1,\n",
       " 1,\n",
       " 1,\n",
       " 1,\n",
       " 1,\n",
       " 1,\n",
       " 1,\n",
       " 0,\n",
       " 1,\n",
       " 1,\n",
       " 1,\n",
       " 0,\n",
       " 1,\n",
       " 1,\n",
       " 1,\n",
       " 1,\n",
       " 1,\n",
       " 1,\n",
       " 1,\n",
       " 1,\n",
       " 1,\n",
       " 1,\n",
       " 1,\n",
       " 1,\n",
       " 1,\n",
       " 0,\n",
       " 1,\n",
       " 0,\n",
       " 1,\n",
       " 1,\n",
       " 1,\n",
       " 1,\n",
       " 1,\n",
       " 0,\n",
       " 1,\n",
       " 1,\n",
       " 1,\n",
       " 1,\n",
       " 1,\n",
       " 0,\n",
       " 1,\n",
       " 1,\n",
       " 1,\n",
       " 1,\n",
       " 1,\n",
       " 1,\n",
       " 1,\n",
       " 1,\n",
       " 1,\n",
       " 0,\n",
       " 1,\n",
       " 1,\n",
       " 1,\n",
       " 1,\n",
       " 0,\n",
       " 0,\n",
       " 1,\n",
       " 0,\n",
       " 1,\n",
       " 1,\n",
       " 1,\n",
       " 1,\n",
       " 1,\n",
       " 1,\n",
       " 1,\n",
       " 1,\n",
       " 1,\n",
       " 1,\n",
       " 1,\n",
       " 0,\n",
       " 1,\n",
       " 1,\n",
       " 0,\n",
       " 0,\n",
       " 1,\n",
       " 1,\n",
       " 0,\n",
       " 1,\n",
       " 1,\n",
       " 1,\n",
       " 1,\n",
       " 1,\n",
       " 1,\n",
       " 1,\n",
       " 1,\n",
       " 0,\n",
       " 1,\n",
       " 1,\n",
       " 1]"
      ]
     },
     "execution_count": 64,
     "metadata": {},
     "output_type": "execute_result"
    }
   ],
   "source": [
    "inv_grd_pred_int = [1 if rating in investment_grade_ratings else 0 for rating in rating_pred]\n",
    "inv_grd_pred_int"
   ]
  },
  {
   "cell_type": "code",
   "execution_count": 65,
   "id": "7a37f63e",
   "metadata": {},
   "outputs": [
    {
     "name": "stdout",
     "output_type": "stream",
     "text": [
      "              precision    recall  f1-score   support\n",
      "\n",
      "           0       0.49      0.40      0.44        84\n",
      "           1       0.82      0.86      0.84       256\n",
      "\n",
      "    accuracy                           0.75       340\n",
      "   macro avg       0.65      0.63      0.64       340\n",
      "weighted avg       0.74      0.75      0.74       340\n",
      "\n"
     ]
    }
   ],
   "source": [
    "print(classification_report(y_test_invgrd,inv_grd_pred_int))"
   ]
  },
  {
   "cell_type": "code",
   "execution_count": 66,
   "id": "56167b14",
   "metadata": {},
   "outputs": [
    {
     "name": "stdout",
     "output_type": "stream",
     "text": [
      "[[ 34  50]\n",
      " [ 35 221]]\n"
     ]
    }
   ],
   "source": [
    "print(confusion_matrix(y_test_invgrd,inv_grd_pred_int))"
   ]
  },
  {
   "cell_type": "markdown",
   "id": "66be628d",
   "metadata": {},
   "source": [
    "**Note:** From the above results, we can see that eventhough we have some False Negative and False positive predictions, i.e., actual positive cases incorrectly predicted as negative and actual negative cases incorrectly predicted as positive, its accuracy, precision , recall and f1 score is good. While comparing to linear regression and logistic regression, neural network approach performs well for this given dataset."
   ]
  },
  {
   "cell_type": "markdown",
   "id": "bba06588",
   "metadata": {},
   "source": [
    "Therefore, we can see that, from the above performance of each model with best parameters, neural networks predictions are well and also we can see that for this datset , eventhough it is imbalanced, it doesn't affect the models performance."
   ]
  }
 ],
 "metadata": {
  "kernelspec": {
   "display_name": "Python 3 (ipykernel)",
   "language": "python",
   "name": "python3"
  },
  "language_info": {
   "codemirror_mode": {
    "name": "ipython",
    "version": 3
   },
   "file_extension": ".py",
   "mimetype": "text/x-python",
   "name": "python",
   "nbconvert_exporter": "python",
   "pygments_lexer": "ipython3",
   "version": "3.9.13"
  }
 },
 "nbformat": 4,
 "nbformat_minor": 5
}
